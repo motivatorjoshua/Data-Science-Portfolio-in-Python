{
  "nbformat": 4,
  "nbformat_minor": 0,
  "metadata": {
    "colab": {
      "name": "Exploratory Data Analysis.ipynb",
      "provenance": []
    },
    "kernelspec": {
      "name": "python3",
      "display_name": "Python 3"
    }
  },
  "cells": [
    {
      "cell_type": "code",
      "metadata": {
        "id": "lJdgCynqjMGR",
        "colab_type": "code",
        "colab": {}
      },
      "source": [
        ""
      ],
      "execution_count": 0,
      "outputs": []
    },
    {
      "cell_type": "markdown",
      "metadata": {
        "id": "iZDh309gjOlX",
        "colab_type": "text"
      },
      "source": [
        "# A Comprehensive Guide to Data Exploration\n",
        "\n",
        "Introduction\n",
        "There are no shortcuts for data exploration. If you are in a state of mind, that machine learning can sail you away from every data storm, trust me, it won’t. After some point of time, you’ll realize that you are struggling at improving model’s accuracy. In such situation, data exploration techniques will come to your rescue.\n",
        "\n",
        "I can confidently say this, because I’ve been through such situations, a lot.\n",
        "\n",
        "I am also new to this field.I want to share my more than six months learnings with all beginners who are interested in Data science. In my initial days, one of my mentor suggested me to spend significant time on exploration and analyzing data. Following his advice has served me well.\n",
        "\n",
        "I’ve created this tutorial to help you understand the underlying techniques of data exploration. As always, I’ve tried my best to explain these concepts in the simplest manner. For better understanding, I’ve taken up few examples to demonstrate the complicated concepts.\n",
        "\n",
        "# 1. Steps of Data Exploration and Preparation\n",
        "Remember the quality of your inputs decide the quality of your output. So, once you have got your business hypothesis ready, it makes sense to spend lot of time and efforts here. With my personal estimate, data exploration, cleaning and preparation can take up to 70% of your total project time.\n",
        "\n",
        "Below are the steps involved to understand, clean and prepare your data for building your predictive model:\n",
        "\n",
        "Variable Identification\n",
        "\n",
        "1.   Univariate Analysis\n",
        "2.   Bi-variate Analysis\n",
        "3.   Missing values treatment\n",
        "4.   Outlier treatment\n",
        "5.   Variable transformation\n",
        "6.   Variable creation\n",
        "\n",
        "\n",
        "\n",
        "\n",
        "\n",
        "\n",
        "\n",
        " \n",
        "\n"
      ]
    }
  ]
}