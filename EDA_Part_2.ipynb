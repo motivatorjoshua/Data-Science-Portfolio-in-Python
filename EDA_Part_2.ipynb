{
  "nbformat": 4,
  "nbformat_minor": 0,
  "metadata": {
    "colab": {
      "name": "EDA-Part 2.ipynb",
      "provenance": []
    },
    "kernelspec": {
      "name": "python3",
      "display_name": "Python 3"
    }
  },
  "cells": [
    {
      "cell_type": "markdown",
      "metadata": {
        "id": "KLWcnpK7eBJu",
        "colab_type": "text"
      },
      "source": [
        "In my previous article, I have explain about various steps of EDA. Now, Let's Start learn one by one :\n",
        "\n",
        "**Step 1 : Variable Identification**\n",
        "\n",
        "First, identify Predictor (Input) and Target (output) variables. Next, identify the data type and category of the variables.\n",
        "\n",
        "Let’s understand this step more clearly by taking an example.\n",
        "\n",
        "Example:- Suppose, we want to predict, whether the Girls Student will play cricket or not (refer below data set). Here you need to identify predictor variables, target variable, data type of variables and category of variables.\n",
        "\n",
        "![](https://www.googleapis.com/download/storage/v1/b/kaggle-user-content/o/inbox%2F4032105%2Fca7d871ad101abe8512297334b9fd8f1%2FData_exploration_11.webp?generation=1576006304659861&amp;alt=media)\n",
        "Below, the variables have been defined in different category:\n",
        "![](https://www.googleapis.com/download/storage/v1/b/kaggle-user-content/o/inbox%2F4032105%2F7c3f64ad89bb3f5011a68f4cf083684f%2FData_exploration_2.webp?generation=1576006357896865&amp;alt=media)\n",
        "\n",
        "**Univariate Analysis**\n",
        "At this stage, we explore variables one by one. Method to perform uni-variate analysis will depend on whether the variable type is categorical or continuous. Let’s look at these methods and statistical measures for categorical and continuous variables individually:\n",
        "\n",
        "**Continuous Variables:**- In case of continuous variables, we need to understand the central tendency and spread of the variable. These are measured using various statistical metrics visualization methods as shown below:\n",
        "![](https://www.googleapis.com/download/storage/v1/b/kaggle-user-content/o/inbox%2F4032105%2Fa09b4ec7df65841ce7ef6ce730bcee42%2FData_exploration_31.webp?generation=1576006420617143&amp;alt=media)\n",
        "**Univariate analysis** is also used to highlight missing and outlier values. In the upcoming part of this series, we will look at methods to handle missing and outlier values. \n",
        "\n",
        "**Categorical Variables:-** For categorical variables, we’ll use frequency table to understand distribution of each category. We can also read as percentage of values under each category. It can be be measured using two metrics, Count and Count% against each category. Bar chart can be used as visualization.\n",
        "\n",
        "I will explain about next variable in my next article, Keep on reading. Happy Data Science !\n",
        "\n",
        "\n",
        "\n",
        "\n"
      ]
    }
  ]
}