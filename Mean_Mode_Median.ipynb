{
  "nbformat": 4,
  "nbformat_minor": 0,
  "metadata": {
    "colab": {
      "name": "Mean-Mode-Median.ipynb",
      "provenance": [],
      "include_colab_link": true
    },
    "kernelspec": {
      "name": "python3",
      "display_name": "Python 3"
    }
  },
  "cells": [
    {
      "cell_type": "markdown",
      "metadata": {
        "id": "view-in-github",
        "colab_type": "text"
      },
      "source": [
        "<a href=\"https://colab.research.google.com/github/neerja198/Data-Science-Portfolio-in-Python/blob/master/Mean_Mode_Median.ipynb\" target=\"_parent\"><img src=\"https://colab.research.google.com/assets/colab-badge.svg\" alt=\"Open In Colab\"/></a>"
      ]
    },
    {
      "cell_type": "markdown",
      "metadata": {
        "id": "dJe6I3TLXoT1",
        "colab_type": "text"
      },
      "source": [
        "# Let's Learn About Mean, Median and Mode "
      ]
    },
    {
      "cell_type": "code",
      "metadata": {
        "id": "qMytiC1yXmVp",
        "colab_type": "code",
        "outputId": "f4f059f2-b561-4b65-d1ba-9226dbfa7d1c",
        "colab": {
          "base_uri": "https://localhost:8080/",
          "height": 34
        }
      },
      "source": [
        "#Mean : The mean is the average of all numbers and is sometimes called \n",
        "#the arithmetic mean. This code calculates Mean or Average of a list containing numbers:\n",
        "\n",
        "import numpy as np\n",
        "Incomes = np.random.normal(27000, 15500, 10000)\n",
        "np.mean(Incomes)"
      ],
      "execution_count": 0,
      "outputs": [
        {
          "output_type": "execute_result",
          "data": {
            "text/plain": [
              "27163.27295523225"
            ]
          },
          "metadata": {
            "tags": []
          },
          "execution_count": 1
        }
      ]
    },
    {
      "cell_type": "markdown",
      "metadata": {
        "id": "etXi16kCYa-V",
        "colab_type": "text"
      },
      "source": [
        "Let's segment the Data into 50 buckets using hitogram plot"
      ]
    },
    {
      "cell_type": "code",
      "metadata": {
        "id": "PoJJmZhpYWn4",
        "colab_type": "code",
        "outputId": "f247991f-a0f3-4338-fd3b-8fc09cdf84fd",
        "colab": {
          "base_uri": "https://localhost:8080/",
          "height": 265
        }
      },
      "source": [
        "%matplotlib inline\n",
        "import matplotlib.pyplot as plt\n",
        "plt.hist(Incomes, 50)\n",
        "plt.show()"
      ],
      "execution_count": 0,
      "outputs": [
        {
          "output_type": "display_data",
          "data": {
            "image/png": "[encoded data removed]",
            "text/plain": [
              "<Figure size 432x288 with 1 Axes>"
            ]
          },
          "metadata": {
            "tags": []
          }
        }
      ]
    },
    {
      "cell_type": "markdown",
      "metadata": {
        "id": "tK451PQ3c0Gy",
        "colab_type": "text"
      },
      "source": [
        "# Median : The median is the middle number in a group of numbers. This code calculates Median of a list containing numbers:\n",
        "\n",
        "We define a list of numbers and calculate the length of the list. To find a median, we first sort the list in Ascending order using sort() function.\n",
        "Now we check if the number is even or odd by checking their remainders. If the number is even, we find 2 middle elements in a list and get their average to print it out. But if the number is odd, we find the middle element in a list and print it out."
      ]
    },
    {
      "cell_type": "code",
      "metadata": {
        "id": "HgI_psLhYg-9",
        "colab_type": "code",
        "outputId": "0515f669-f01c-4b41-98fe-f5ae2e3d8bf3",
        "colab": {
          "base_uri": "https://localhost:8080/",
          "height": 34
        }
      },
      "source": [
        "np.median(Incomes)"
      ],
      "execution_count": 0,
      "outputs": [
        {
          "output_type": "execute_result",
          "data": {
            "text/plain": [
              "27096.5257518801"
            ]
          },
          "metadata": {
            "tags": []
          },
          "execution_count": 4
        }
      ]
    },
    {
      "cell_type": "markdown",
      "metadata": {
        "id": "_DPGC68DZde5",
        "colab_type": "text"
      },
      "source": [
        "Now, We'll add One more income in the bucket"
      ]
    },
    {
      "cell_type": "code",
      "metadata": {
        "id": "Df0ZHvnNZZC7",
        "colab_type": "code",
        "colab": {}
      },
      "source": [
        "Incomes = np.append(Incomes, 10000000000)"
      ],
      "execution_count": 0,
      "outputs": []
    },
    {
      "cell_type": "markdown",
      "metadata": {
        "id": "KEAVlz4zZuLu",
        "colab_type": "text"
      },
      "source": [
        "# Now, Median will remain same but mean will change. Let's see"
      ]
    },
    {
      "cell_type": "code",
      "metadata": {
        "id": "p3o6tnHfZ3el",
        "colab_type": "code",
        "outputId": "58c4c713-1f83-4347-e272-1cc4afb550ca",
        "colab": {
          "base_uri": "https://localhost:8080/",
          "height": 34
        }
      },
      "source": [
        "np.median(Incomes)"
      ],
      "execution_count": 0,
      "outputs": [
        {
          "output_type": "execute_result",
          "data": {
            "text/plain": [
              "27101.43656910384"
            ]
          },
          "metadata": {
            "tags": []
          },
          "execution_count": 6
        }
      ]
    },
    {
      "cell_type": "code",
      "metadata": {
        "id": "6qld1lspZ6ur",
        "colab_type": "code",
        "outputId": "3463b2c3-4625-419d-e7c2-8400e70316f6",
        "colab": {
          "base_uri": "https://localhost:8080/",
          "height": 34
        }
      },
      "source": [
        "np.mean(Incomes)"
      ],
      "execution_count": 0,
      "outputs": [
        {
          "output_type": "execute_result",
          "data": {
            "text/plain": [
              "1027060.5668985426"
            ]
          },
          "metadata": {
            "tags": []
          },
          "execution_count": 7
        }
      ]
    },
    {
      "cell_type": "markdown",
      "metadata": {
        "id": "Lz8gfJmfZ-NM",
        "colab_type": "text"
      },
      "source": [
        "In the above result, we can see if we are adding more big values it's affecting th mean not median."
      ]
    },
    {
      "cell_type": "markdown",
      "metadata": {
        "id": "MjYOp6G_aYfe",
        "colab_type": "text"
      },
      "source": [
        "# MODE\n",
        "Mode : The mode is the number that occurs most often within a set of numbers. This code calculates Mode of a list containing numbers:"
      ]
    },
    {
      "cell_type": "markdown",
      "metadata": {
        "id": "IYEL8jGpanp8",
        "colab_type": "text"
      },
      "source": [
        "Let's generate some fake age data for 500 people. "
      ]
    },
    {
      "cell_type": "code",
      "metadata": {
        "id": "5Ggu7VScaHxK",
        "colab_type": "code",
        "outputId": "a70b8c44-ee8a-4b2d-8eb0-1353050a2035",
        "colab": {
          "base_uri": "https://localhost:8080/",
          "height": 527
        }
      },
      "source": [
        "ages = np.random.randint(18, high=90, size=500)\n",
        "ages"
      ],
      "execution_count": 0,
      "outputs": [
        {
          "output_type": "execute_result",
          "data": {
            "text/plain": [
              "array([32, 70, 76, 33, 56, 68, 27, 39, 34, 36, 27, 57, 41, 61, 73, 22, 51,\n",
              "       25, 74, 31, 58, 45, 60, 80, 41, 78, 75, 49, 32, 63, 50, 27, 82, 35,\n",
              "       49, 71, 74, 68, 77, 72, 49, 49, 19, 77, 52, 25, 39, 56, 41, 34, 32,\n",
              "       65, 35, 84, 51, 47, 36, 84, 24, 67, 69, 37, 40, 88, 62, 55, 80, 54,\n",
              "       44, 67, 68, 26, 60, 68, 81, 72, 63, 58, 82, 52, 88, 22, 28, 46, 18,\n",
              "       68, 19, 19, 65, 36, 47, 85, 56, 28, 81, 58, 82, 84, 73, 38, 24, 24,\n",
              "       68, 88, 79, 27, 61, 57, 53, 79, 79, 63, 34, 67, 57, 81, 46, 87, 68,\n",
              "       35, 74, 66, 57, 25, 63, 39, 80, 38, 28, 75, 46, 79, 66, 46, 35, 80,\n",
              "       89, 70, 41, 87, 44, 40, 57, 69, 41, 22, 64, 24, 64, 49, 21, 36, 84,\n",
              "       75, 68, 51, 38, 46, 34, 82, 29, 68, 70, 58, 53, 29, 30, 86, 67, 32,\n",
              "       24, 38, 23, 83, 76, 86, 24, 61, 28, 55, 38, 67, 39, 76, 67, 59, 55,\n",
              "       75, 56, 74, 54, 24, 58, 27, 66, 18, 37, 84, 55, 88, 34, 27, 41, 47,\n",
              "       75, 55, 52, 33, 48, 43, 47, 44, 76, 87, 63, 47, 87, 43, 70, 71, 31,\n",
              "       23, 71, 89, 81, 63, 79, 56, 25, 22, 33, 57, 73, 56, 71, 19, 69, 31,\n",
              "       19, 49, 19, 43, 35, 24, 32, 78, 33, 40, 38, 19, 44, 23, 33, 66, 20,\n",
              "       77, 74, 52, 69, 45, 50, 84, 82, 35, 22, 39, 45, 53, 87, 47, 60, 61,\n",
              "       89, 88, 32, 85, 83, 60, 78, 77, 19, 43, 74, 69, 48, 28, 53, 33, 53,\n",
              "       30, 31, 26, 42, 50, 58, 23, 59, 46, 71, 59, 53, 18, 65, 45, 40, 51,\n",
              "       27, 85, 72, 37, 29, 87, 42, 61, 41, 77, 49, 54, 75, 39, 70, 35, 52,\n",
              "       47, 62, 69, 18, 61, 51, 54, 41, 33, 45, 23, 66, 52, 39, 22, 66, 19,\n",
              "       87, 32, 88, 83, 20, 82, 60, 31, 66, 38, 87, 79, 40, 65, 31, 75, 69,\n",
              "       22, 37, 85, 63, 89, 89, 67, 26, 40, 85, 31, 28, 46, 71, 37, 54, 66,\n",
              "       19, 40, 31, 76, 80, 51, 72, 34, 80, 32, 29, 52, 19, 58, 34, 79, 79,\n",
              "       89, 66, 64, 89, 84, 84, 74, 46, 54, 21, 61, 46, 22, 74, 88, 45, 56,\n",
              "       64, 41, 18, 65, 72, 55, 88, 45, 19, 71, 62, 86, 45, 32, 54, 68, 37,\n",
              "       67, 70, 79, 43, 19, 37, 19, 63, 79, 86, 47, 84, 60, 45, 73, 27, 73,\n",
              "       64, 57, 27, 81, 81, 35, 23, 39, 22, 85, 87, 65, 23, 47, 66, 52, 88,\n",
              "       43, 29, 61, 21, 28, 35, 31, 63, 55, 23, 26, 75, 44, 23, 27, 42, 33,\n",
              "       36, 25, 42, 55, 35, 56, 79, 44, 65, 29, 18, 19, 81, 67, 64, 55, 49,\n",
              "       42, 47, 26, 63, 38, 49, 22])"
            ]
          },
          "metadata": {
            "tags": []
          },
          "execution_count": 9
        }
      ]
    },
    {
      "cell_type": "code",
      "metadata": {
        "id": "FY5DRK9ta4fc",
        "colab_type": "code",
        "outputId": "a9509ff4-3548-4b74-d918-053d9834afd2",
        "colab": {
          "base_uri": "https://localhost:8080/",
          "height": 34
        }
      },
      "source": [
        "#Statistical functions ( scipy.stats ) \n",
        "#This module contains a large number of probability distributions \n",
        "#as well as a growing library of statistical functions. \n",
        "#Each univariate distribution is an instance of a subclass \n",
        "#of rv_continuous ( rv_discrete for discrete distributions):\n",
        "\n",
        "from scipy import stats\n",
        "stats.mode(ages)"
      ],
      "execution_count": 0,
      "outputs": [
        {
          "output_type": "execute_result",
          "data": {
            "text/plain": [
              "ModeResult(mode=array([19]), count=array([15]))"
            ]
          },
          "metadata": {
            "tags": []
          },
          "execution_count": 11
        }
      ]
    },
    {
      "cell_type": "code",
      "metadata": {
        "id": "CoWg0H_zbJcZ",
        "colab_type": "code",
        "colab": {}
      },
      "source": [
        ""
      ],
      "execution_count": 0,
      "outputs": []
    }
  ]
}