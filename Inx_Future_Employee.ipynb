{
  "nbformat": 4,
  "nbformat_minor": 0,
  "metadata": {
    "colab": {
      "name": "Inx_Future_Employee.ipynb",
      "provenance": [],
      "include_colab_link": true
    },
    "kernelspec": {
      "name": "python3",
      "display_name": "Python 3"
    }
  },
  "cells": [
    {
      "cell_type": "markdown",
      "metadata": {
        "id": "view-in-github",
        "colab_type": "text"
      },
      "source": [
        "<a href=\"https://colab.research.google.com/github/neerja198/Data-Science-Portfolio-in-Python/blob/master/Inx_Future_Employee.ipynb\" target=\"_parent\"><img src=\"https://colab.research.google.com/assets/colab-badge.svg\" alt=\"Open In Colab\"/></a>"
      ]
    },
    {
      "cell_type": "code",
      "metadata": {
        "id": "EiwZEUdf0R0N",
        "colab_type": "code",
        "colab": {}
      },
      "source": [
        "import numpy as np\n",
        "import pandas as pd\n",
        "import seaborn as sns\n",
        "import matplotlib.pyplot as plt\n",
        "%matplotlib inline"
      ],
      "execution_count": 0,
      "outputs": []
    },
    {
      "cell_type": "code",
      "metadata": {
        "id": "3d1xmoSP4REV",
        "colab_type": "code",
        "colab": {}
      },
      "source": [
        "#Read the File using Pandas\n",
        "data = pd.read_excel('/content/INX_Future_Inc_Employee_Performance_CDS_Project2_Data_V1.8 (1).xls')"
      ],
      "execution_count": 0,
      "outputs": []
    },
    {
      "cell_type": "code",
      "metadata": {
        "id": "1O5V2EN-4eY8",
        "colab_type": "code",
        "colab": {
          "base_uri": "https://localhost:8080/",
          "height": 309
        },
        "outputId": "5e1531d0-898e-4df2-a7b5-04a3963c169b"
      },
      "source": [
        "#Display the First Five Records using Head() , Can Pass total number of records as well e.g head(10)\n",
        "data.head()"
      ],
      "execution_count": 6,
      "outputs": [
        {
          "output_type": "execute_result",
          "data": {
            "text/html": [
              "<div>\n",
              "<style scoped>\n",
              "    .dataframe tbody tr th:only-of-type {\n",
              "        vertical-align: middle;\n",
              "    }\n",
              "\n",
              "    .dataframe tbody tr th {\n",
              "        vertical-align: top;\n",
              "    }\n",
              "\n",
              "    .dataframe thead th {\n",
              "        text-align: right;\n",
              "    }\n",
              "</style>\n",
              "<table border=\"1\" class=\"dataframe\">\n",
              "  <thead>\n",
              "    <tr style=\"text-align: right;\">\n",
              "      <th></th>\n",
              "      <th>EmpNumber</th>\n",
              "      <th>Age</th>\n",
              "      <th>Gender</th>\n",
              "      <th>EducationBackground</th>\n",
              "      <th>MaritalStatus</th>\n",
              "      <th>EmpDepartment</th>\n",
              "      <th>EmpJobRole</th>\n",
              "      <th>BusinessTravelFrequency</th>\n",
              "      <th>DistanceFromHome</th>\n",
              "      <th>EmpEducationLevel</th>\n",
              "      <th>EmpEnvironmentSatisfaction</th>\n",
              "      <th>EmpHourlyRate</th>\n",
              "      <th>EmpJobInvolvement</th>\n",
              "      <th>EmpJobLevel</th>\n",
              "      <th>EmpJobSatisfaction</th>\n",
              "      <th>NumCompaniesWorked</th>\n",
              "      <th>OverTime</th>\n",
              "      <th>EmpLastSalaryHikePercent</th>\n",
              "      <th>EmpRelationshipSatisfaction</th>\n",
              "      <th>TotalWorkExperienceInYears</th>\n",
              "      <th>TrainingTimesLastYear</th>\n",
              "      <th>EmpWorkLifeBalance</th>\n",
              "      <th>ExperienceYearsAtThisCompany</th>\n",
              "      <th>ExperienceYearsInCurrentRole</th>\n",
              "      <th>YearsSinceLastPromotion</th>\n",
              "      <th>YearsWithCurrManager</th>\n",
              "      <th>Attrition</th>\n",
              "      <th>PerformanceRating</th>\n",
              "    </tr>\n",
              "  </thead>\n",
              "  <tbody>\n",
              "    <tr>\n",
              "      <th>0</th>\n",
              "      <td>E1001000</td>\n",
              "      <td>32</td>\n",
              "      <td>Male</td>\n",
              "      <td>Marketing</td>\n",
              "      <td>Single</td>\n",
              "      <td>Sales</td>\n",
              "      <td>Sales Executive</td>\n",
              "      <td>Travel_Rarely</td>\n",
              "      <td>10</td>\n",
              "      <td>3</td>\n",
              "      <td>4</td>\n",
              "      <td>55</td>\n",
              "      <td>3</td>\n",
              "      <td>2</td>\n",
              "      <td>4</td>\n",
              "      <td>1</td>\n",
              "      <td>No</td>\n",
              "      <td>12</td>\n",
              "      <td>4</td>\n",
              "      <td>10</td>\n",
              "      <td>2</td>\n",
              "      <td>2</td>\n",
              "      <td>10</td>\n",
              "      <td>7</td>\n",
              "      <td>0</td>\n",
              "      <td>8</td>\n",
              "      <td>No</td>\n",
              "      <td>3</td>\n",
              "    </tr>\n",
              "    <tr>\n",
              "      <th>1</th>\n",
              "      <td>E1001006</td>\n",
              "      <td>47</td>\n",
              "      <td>Male</td>\n",
              "      <td>Marketing</td>\n",
              "      <td>Single</td>\n",
              "      <td>Sales</td>\n",
              "      <td>Sales Executive</td>\n",
              "      <td>Travel_Rarely</td>\n",
              "      <td>14</td>\n",
              "      <td>4</td>\n",
              "      <td>4</td>\n",
              "      <td>42</td>\n",
              "      <td>3</td>\n",
              "      <td>2</td>\n",
              "      <td>1</td>\n",
              "      <td>2</td>\n",
              "      <td>No</td>\n",
              "      <td>12</td>\n",
              "      <td>4</td>\n",
              "      <td>20</td>\n",
              "      <td>2</td>\n",
              "      <td>3</td>\n",
              "      <td>7</td>\n",
              "      <td>7</td>\n",
              "      <td>1</td>\n",
              "      <td>7</td>\n",
              "      <td>No</td>\n",
              "      <td>3</td>\n",
              "    </tr>\n",
              "    <tr>\n",
              "      <th>2</th>\n",
              "      <td>E1001007</td>\n",
              "      <td>40</td>\n",
              "      <td>Male</td>\n",
              "      <td>Life Sciences</td>\n",
              "      <td>Married</td>\n",
              "      <td>Sales</td>\n",
              "      <td>Sales Executive</td>\n",
              "      <td>Travel_Frequently</td>\n",
              "      <td>5</td>\n",
              "      <td>4</td>\n",
              "      <td>4</td>\n",
              "      <td>48</td>\n",
              "      <td>2</td>\n",
              "      <td>3</td>\n",
              "      <td>1</td>\n",
              "      <td>5</td>\n",
              "      <td>Yes</td>\n",
              "      <td>21</td>\n",
              "      <td>3</td>\n",
              "      <td>20</td>\n",
              "      <td>2</td>\n",
              "      <td>3</td>\n",
              "      <td>18</td>\n",
              "      <td>13</td>\n",
              "      <td>1</td>\n",
              "      <td>12</td>\n",
              "      <td>No</td>\n",
              "      <td>4</td>\n",
              "    </tr>\n",
              "    <tr>\n",
              "      <th>3</th>\n",
              "      <td>E1001009</td>\n",
              "      <td>41</td>\n",
              "      <td>Male</td>\n",
              "      <td>Human Resources</td>\n",
              "      <td>Divorced</td>\n",
              "      <td>Human Resources</td>\n",
              "      <td>Manager</td>\n",
              "      <td>Travel_Rarely</td>\n",
              "      <td>10</td>\n",
              "      <td>4</td>\n",
              "      <td>2</td>\n",
              "      <td>73</td>\n",
              "      <td>2</td>\n",
              "      <td>5</td>\n",
              "      <td>4</td>\n",
              "      <td>3</td>\n",
              "      <td>No</td>\n",
              "      <td>15</td>\n",
              "      <td>2</td>\n",
              "      <td>23</td>\n",
              "      <td>2</td>\n",
              "      <td>2</td>\n",
              "      <td>21</td>\n",
              "      <td>6</td>\n",
              "      <td>12</td>\n",
              "      <td>6</td>\n",
              "      <td>No</td>\n",
              "      <td>3</td>\n",
              "    </tr>\n",
              "    <tr>\n",
              "      <th>4</th>\n",
              "      <td>E1001010</td>\n",
              "      <td>60</td>\n",
              "      <td>Male</td>\n",
              "      <td>Marketing</td>\n",
              "      <td>Single</td>\n",
              "      <td>Sales</td>\n",
              "      <td>Sales Executive</td>\n",
              "      <td>Travel_Rarely</td>\n",
              "      <td>16</td>\n",
              "      <td>4</td>\n",
              "      <td>1</td>\n",
              "      <td>84</td>\n",
              "      <td>3</td>\n",
              "      <td>2</td>\n",
              "      <td>1</td>\n",
              "      <td>8</td>\n",
              "      <td>No</td>\n",
              "      <td>14</td>\n",
              "      <td>4</td>\n",
              "      <td>10</td>\n",
              "      <td>1</td>\n",
              "      <td>3</td>\n",
              "      <td>2</td>\n",
              "      <td>2</td>\n",
              "      <td>2</td>\n",
              "      <td>2</td>\n",
              "      <td>No</td>\n",
              "      <td>3</td>\n",
              "    </tr>\n",
              "  </tbody>\n",
              "</table>\n",
              "</div>"
            ],
            "text/plain": [
              "  EmpNumber  Age Gender  ... YearsWithCurrManager Attrition PerformanceRating\n",
              "0  E1001000   32   Male  ...                    8        No                 3\n",
              "1  E1001006   47   Male  ...                    7        No                 3\n",
              "2  E1001007   40   Male  ...                   12        No                 4\n",
              "3  E1001009   41   Male  ...                    6        No                 3\n",
              "4  E1001010   60   Male  ...                    2        No                 3\n",
              "\n",
              "[5 rows x 28 columns]"
            ]
          },
          "metadata": {
            "tags": []
          },
          "execution_count": 6
        }
      ]
    },
    {
      "cell_type": "code",
      "metadata": {
        "id": "mCIXuEH544HV",
        "colab_type": "code",
        "colab": {
          "base_uri": "https://localhost:8080/",
          "height": 578
        },
        "outputId": "a93a8570-f5d4-4699-ed01-0a5670ccd2bd"
      },
      "source": [
        "#Function to display info about the DataSet\n",
        "data.info()"
      ],
      "execution_count": 7,
      "outputs": [
        {
          "output_type": "stream",
          "text": [
            "<class 'pandas.core.frame.DataFrame'>\n",
            "RangeIndex: 1200 entries, 0 to 1199\n",
            "Data columns (total 28 columns):\n",
            "EmpNumber                       1200 non-null object\n",
            "Age                             1200 non-null int64\n",
            "Gender                          1200 non-null object\n",
            "EducationBackground             1200 non-null object\n",
            "MaritalStatus                   1200 non-null object\n",
            "EmpDepartment                   1200 non-null object\n",
            "EmpJobRole                      1200 non-null object\n",
            "BusinessTravelFrequency         1200 non-null object\n",
            "DistanceFromHome                1200 non-null int64\n",
            "EmpEducationLevel               1200 non-null int64\n",
            "EmpEnvironmentSatisfaction      1200 non-null int64\n",
            "EmpHourlyRate                   1200 non-null int64\n",
            "EmpJobInvolvement               1200 non-null int64\n",
            "EmpJobLevel                     1200 non-null int64\n",
            "EmpJobSatisfaction              1200 non-null int64\n",
            "NumCompaniesWorked              1200 non-null int64\n",
            "OverTime                        1200 non-null object\n",
            "EmpLastSalaryHikePercent        1200 non-null int64\n",
            "EmpRelationshipSatisfaction     1200 non-null int64\n",
            "TotalWorkExperienceInYears      1200 non-null int64\n",
            "TrainingTimesLastYear           1200 non-null int64\n",
            "EmpWorkLifeBalance              1200 non-null int64\n",
            "ExperienceYearsAtThisCompany    1200 non-null int64\n",
            "ExperienceYearsInCurrentRole    1200 non-null int64\n",
            "YearsSinceLastPromotion         1200 non-null int64\n",
            "YearsWithCurrManager            1200 non-null int64\n",
            "Attrition                       1200 non-null object\n",
            "PerformanceRating               1200 non-null int64\n",
            "dtypes: int64(19), object(9)\n",
            "memory usage: 262.6+ KB\n"
          ],
          "name": "stdout"
        }
      ]
    },
    {
      "cell_type": "code",
      "metadata": {
        "id": "JWKGXc5x4oz7",
        "colab_type": "code",
        "colab": {
          "base_uri": "https://localhost:8080/",
          "height": 34
        },
        "outputId": "0288c33f-f465-487f-f2a1-d791a2e09d8d"
      },
      "source": [
        "#This will display the total number of rows and columns\n",
        "data.shape"
      ],
      "execution_count": 13,
      "outputs": [
        {
          "output_type": "execute_result",
          "data": {
            "text/plain": [
              "(1200, 27)"
            ]
          },
          "metadata": {
            "tags": []
          },
          "execution_count": 13
        }
      ]
    },
    {
      "cell_type": "code",
      "metadata": {
        "id": "pHEYsJ2pDwxw",
        "colab_type": "code",
        "colab": {}
      },
      "source": [
        "data.drop(['EmpNumber'],axis=1,inplace=True)"
      ],
      "execution_count": 0,
      "outputs": []
    },
    {
      "cell_type": "code",
      "metadata": {
        "id": "uLttY4dPMmkr",
        "colab_type": "code",
        "colab": {
          "base_uri": "https://localhost:8080/",
          "height": 655
        },
        "outputId": "471ad886-61eb-4a20-b6fd-5d28a156301a"
      },
      "source": [
        "corrmat = data.corr() \n",
        "f, ax = plt.subplots(figsize =(9, 8)) \n",
        "sns.heatmap(corrmat, ax = ax, cmap =\"YlGnBu\", linewidths = 0.1)\n"
      ],
      "execution_count": 14,
      "outputs": [
        {
          "output_type": "execute_result",
          "data": {
            "text/plain": [
              "<matplotlib.axes._subplots.AxesSubplot at 0x7fe6fa3c6dd8>"
            ]
          },
          "metadata": {
            "tags": []
          },
          "execution_count": 14
        },
        {
          "output_type": "display_data",
          "data": {
            "image/png": "[encoded data removed]",
            "text/plain": [
              "<Figure size 648x576 with 2 Axes>"
            ]
          },
          "metadata": {
            "tags": []
          }
        }
      ]
    },
    {
      "cell_type": "code",
      "metadata": {
        "id": "unDiUsgaEe7c",
        "colab_type": "code",
        "colab": {
          "base_uri": "https://localhost:8080/",
          "height": 1000
        },
        "outputId": "e3478549-ddfa-452b-ea87-26f21a269c99"
      },
      "source": [
        "data_dummy = pd.get_dummies(data, drop_first=True)\n",
        "data_dummy.to_csv('INX_Future_Inc.csv',index=False)\n",
        "data_dummy = pd.read_csv('INX_Future_Inc.csv')\n",
        "data_dummy.info()"
      ],
      "execution_count": 15,
      "outputs": [
        {
          "output_type": "stream",
          "text": [
            "<class 'pandas.core.frame.DataFrame'>\n",
            "RangeIndex: 1200 entries, 0 to 1199\n",
            "Data columns (total 54 columns):\n",
            "Age                                          1200 non-null int64\n",
            "DistanceFromHome                             1200 non-null int64\n",
            "EmpEducationLevel                            1200 non-null int64\n",
            "EmpEnvironmentSatisfaction                   1200 non-null int64\n",
            "EmpHourlyRate                                1200 non-null int64\n",
            "EmpJobInvolvement                            1200 non-null int64\n",
            "EmpJobLevel                                  1200 non-null int64\n",
            "EmpJobSatisfaction                           1200 non-null int64\n",
            "NumCompaniesWorked                           1200 non-null int64\n",
            "EmpLastSalaryHikePercent                     1200 non-null int64\n",
            "EmpRelationshipSatisfaction                  1200 non-null int64\n",
            "TotalWorkExperienceInYears                   1200 non-null int64\n",
            "TrainingTimesLastYear                        1200 non-null int64\n",
            "EmpWorkLifeBalance                           1200 non-null int64\n",
            "ExperienceYearsAtThisCompany                 1200 non-null int64\n",
            "ExperienceYearsInCurrentRole                 1200 non-null int64\n",
            "YearsSinceLastPromotion                      1200 non-null int64\n",
            "YearsWithCurrManager                         1200 non-null int64\n",
            "PerformanceRating                            1200 non-null int64\n",
            "Gender_Male                                  1200 non-null int64\n",
            "EducationBackground_Life Sciences            1200 non-null int64\n",
            "EducationBackground_Marketing                1200 non-null int64\n",
            "EducationBackground_Medical                  1200 non-null int64\n",
            "EducationBackground_Other                    1200 non-null int64\n",
            "EducationBackground_Technical Degree         1200 non-null int64\n",
            "MaritalStatus_Married                        1200 non-null int64\n",
            "MaritalStatus_Single                         1200 non-null int64\n",
            "EmpDepartment_Development                    1200 non-null int64\n",
            "EmpDepartment_Finance                        1200 non-null int64\n",
            "EmpDepartment_Human Resources                1200 non-null int64\n",
            "EmpDepartment_Research & Development         1200 non-null int64\n",
            "EmpDepartment_Sales                          1200 non-null int64\n",
            "EmpJobRole_Data Scientist                    1200 non-null int64\n",
            "EmpJobRole_Delivery Manager                  1200 non-null int64\n",
            "EmpJobRole_Developer                         1200 non-null int64\n",
            "EmpJobRole_Finance Manager                   1200 non-null int64\n",
            "EmpJobRole_Healthcare Representative         1200 non-null int64\n",
            "EmpJobRole_Human Resources                   1200 non-null int64\n",
            "EmpJobRole_Laboratory Technician             1200 non-null int64\n",
            "EmpJobRole_Manager                           1200 non-null int64\n",
            "EmpJobRole_Manager R&D                       1200 non-null int64\n",
            "EmpJobRole_Manufacturing Director            1200 non-null int64\n",
            "EmpJobRole_Research Director                 1200 non-null int64\n",
            "EmpJobRole_Research Scientist                1200 non-null int64\n",
            "EmpJobRole_Sales Executive                   1200 non-null int64\n",
            "EmpJobRole_Sales Representative              1200 non-null int64\n",
            "EmpJobRole_Senior Developer                  1200 non-null int64\n",
            "EmpJobRole_Senior Manager R&D                1200 non-null int64\n",
            "EmpJobRole_Technical Architect               1200 non-null int64\n",
            "EmpJobRole_Technical Lead                    1200 non-null int64\n",
            "BusinessTravelFrequency_Travel_Frequently    1200 non-null int64\n",
            "BusinessTravelFrequency_Travel_Rarely        1200 non-null int64\n",
            "OverTime_Yes                                 1200 non-null int64\n",
            "Attrition_Yes                                1200 non-null int64\n",
            "dtypes: int64(54)\n",
            "memory usage: 506.4 KB\n"
          ],
          "name": "stdout"
        }
      ]
    },
    {
      "cell_type": "code",
      "metadata": {
        "id": "qVUljfXUOcj9",
        "colab_type": "code",
        "colab": {
          "base_uri": "https://localhost:8080/",
          "height": 320
        },
        "outputId": "7034f7b3-9dbf-4830-dc46-979cc4cdada8"
      },
      "source": [
        " data.groupby('EmpDepartment').count()"
      ],
      "execution_count": 16,
      "outputs": [
        {
          "output_type": "execute_result",
          "data": {
            "text/html": [
              "<div>\n",
              "<style scoped>\n",
              "    .dataframe tbody tr th:only-of-type {\n",
              "        vertical-align: middle;\n",
              "    }\n",
              "\n",
              "    .dataframe tbody tr th {\n",
              "        vertical-align: top;\n",
              "    }\n",
              "\n",
              "    .dataframe thead th {\n",
              "        text-align: right;\n",
              "    }\n",
              "</style>\n",
              "<table border=\"1\" class=\"dataframe\">\n",
              "  <thead>\n",
              "    <tr style=\"text-align: right;\">\n",
              "      <th></th>\n",
              "      <th>Age</th>\n",
              "      <th>Gender</th>\n",
              "      <th>EducationBackground</th>\n",
              "      <th>MaritalStatus</th>\n",
              "      <th>EmpJobRole</th>\n",
              "      <th>BusinessTravelFrequency</th>\n",
              "      <th>DistanceFromHome</th>\n",
              "      <th>EmpEducationLevel</th>\n",
              "      <th>EmpEnvironmentSatisfaction</th>\n",
              "      <th>EmpHourlyRate</th>\n",
              "      <th>EmpJobInvolvement</th>\n",
              "      <th>EmpJobLevel</th>\n",
              "      <th>EmpJobSatisfaction</th>\n",
              "      <th>NumCompaniesWorked</th>\n",
              "      <th>OverTime</th>\n",
              "      <th>EmpLastSalaryHikePercent</th>\n",
              "      <th>EmpRelationshipSatisfaction</th>\n",
              "      <th>TotalWorkExperienceInYears</th>\n",
              "      <th>TrainingTimesLastYear</th>\n",
              "      <th>EmpWorkLifeBalance</th>\n",
              "      <th>ExperienceYearsAtThisCompany</th>\n",
              "      <th>ExperienceYearsInCurrentRole</th>\n",
              "      <th>YearsSinceLastPromotion</th>\n",
              "      <th>YearsWithCurrManager</th>\n",
              "      <th>Attrition</th>\n",
              "      <th>PerformanceRating</th>\n",
              "    </tr>\n",
              "    <tr>\n",
              "      <th>EmpDepartment</th>\n",
              "      <th></th>\n",
              "      <th></th>\n",
              "      <th></th>\n",
              "      <th></th>\n",
              "      <th></th>\n",
              "      <th></th>\n",
              "      <th></th>\n",
              "      <th></th>\n",
              "      <th></th>\n",
              "      <th></th>\n",
              "      <th></th>\n",
              "      <th></th>\n",
              "      <th></th>\n",
              "      <th></th>\n",
              "      <th></th>\n",
              "      <th></th>\n",
              "      <th></th>\n",
              "      <th></th>\n",
              "      <th></th>\n",
              "      <th></th>\n",
              "      <th></th>\n",
              "      <th></th>\n",
              "      <th></th>\n",
              "      <th></th>\n",
              "      <th></th>\n",
              "      <th></th>\n",
              "    </tr>\n",
              "  </thead>\n",
              "  <tbody>\n",
              "    <tr>\n",
              "      <th>Data Science</th>\n",
              "      <td>20</td>\n",
              "      <td>20</td>\n",
              "      <td>20</td>\n",
              "      <td>20</td>\n",
              "      <td>20</td>\n",
              "      <td>20</td>\n",
              "      <td>20</td>\n",
              "      <td>20</td>\n",
              "      <td>20</td>\n",
              "      <td>20</td>\n",
              "      <td>20</td>\n",
              "      <td>20</td>\n",
              "      <td>20</td>\n",
              "      <td>20</td>\n",
              "      <td>20</td>\n",
              "      <td>20</td>\n",
              "      <td>20</td>\n",
              "      <td>20</td>\n",
              "      <td>20</td>\n",
              "      <td>20</td>\n",
              "      <td>20</td>\n",
              "      <td>20</td>\n",
              "      <td>20</td>\n",
              "      <td>20</td>\n",
              "      <td>20</td>\n",
              "      <td>20</td>\n",
              "    </tr>\n",
              "    <tr>\n",
              "      <th>Development</th>\n",
              "      <td>361</td>\n",
              "      <td>361</td>\n",
              "      <td>361</td>\n",
              "      <td>361</td>\n",
              "      <td>361</td>\n",
              "      <td>361</td>\n",
              "      <td>361</td>\n",
              "      <td>361</td>\n",
              "      <td>361</td>\n",
              "      <td>361</td>\n",
              "      <td>361</td>\n",
              "      <td>361</td>\n",
              "      <td>361</td>\n",
              "      <td>361</td>\n",
              "      <td>361</td>\n",
              "      <td>361</td>\n",
              "      <td>361</td>\n",
              "      <td>361</td>\n",
              "      <td>361</td>\n",
              "      <td>361</td>\n",
              "      <td>361</td>\n",
              "      <td>361</td>\n",
              "      <td>361</td>\n",
              "      <td>361</td>\n",
              "      <td>361</td>\n",
              "      <td>361</td>\n",
              "    </tr>\n",
              "    <tr>\n",
              "      <th>Finance</th>\n",
              "      <td>49</td>\n",
              "      <td>49</td>\n",
              "      <td>49</td>\n",
              "      <td>49</td>\n",
              "      <td>49</td>\n",
              "      <td>49</td>\n",
              "      <td>49</td>\n",
              "      <td>49</td>\n",
              "      <td>49</td>\n",
              "      <td>49</td>\n",
              "      <td>49</td>\n",
              "      <td>49</td>\n",
              "      <td>49</td>\n",
              "      <td>49</td>\n",
              "      <td>49</td>\n",
              "      <td>49</td>\n",
              "      <td>49</td>\n",
              "      <td>49</td>\n",
              "      <td>49</td>\n",
              "      <td>49</td>\n",
              "      <td>49</td>\n",
              "      <td>49</td>\n",
              "      <td>49</td>\n",
              "      <td>49</td>\n",
              "      <td>49</td>\n",
              "      <td>49</td>\n",
              "    </tr>\n",
              "    <tr>\n",
              "      <th>Human Resources</th>\n",
              "      <td>54</td>\n",
              "      <td>54</td>\n",
              "      <td>54</td>\n",
              "      <td>54</td>\n",
              "      <td>54</td>\n",
              "      <td>54</td>\n",
              "      <td>54</td>\n",
              "      <td>54</td>\n",
              "      <td>54</td>\n",
              "      <td>54</td>\n",
              "      <td>54</td>\n",
              "      <td>54</td>\n",
              "      <td>54</td>\n",
              "      <td>54</td>\n",
              "      <td>54</td>\n",
              "      <td>54</td>\n",
              "      <td>54</td>\n",
              "      <td>54</td>\n",
              "      <td>54</td>\n",
              "      <td>54</td>\n",
              "      <td>54</td>\n",
              "      <td>54</td>\n",
              "      <td>54</td>\n",
              "      <td>54</td>\n",
              "      <td>54</td>\n",
              "      <td>54</td>\n",
              "    </tr>\n",
              "    <tr>\n",
              "      <th>Research &amp; Development</th>\n",
              "      <td>343</td>\n",
              "      <td>343</td>\n",
              "      <td>343</td>\n",
              "      <td>343</td>\n",
              "      <td>343</td>\n",
              "      <td>343</td>\n",
              "      <td>343</td>\n",
              "      <td>343</td>\n",
              "      <td>343</td>\n",
              "      <td>343</td>\n",
              "      <td>343</td>\n",
              "      <td>343</td>\n",
              "      <td>343</td>\n",
              "      <td>343</td>\n",
              "      <td>343</td>\n",
              "      <td>343</td>\n",
              "      <td>343</td>\n",
              "      <td>343</td>\n",
              "      <td>343</td>\n",
              "      <td>343</td>\n",
              "      <td>343</td>\n",
              "      <td>343</td>\n",
              "      <td>343</td>\n",
              "      <td>343</td>\n",
              "      <td>343</td>\n",
              "      <td>343</td>\n",
              "    </tr>\n",
              "    <tr>\n",
              "      <th>Sales</th>\n",
              "      <td>373</td>\n",
              "      <td>373</td>\n",
              "      <td>373</td>\n",
              "      <td>373</td>\n",
              "      <td>373</td>\n",
              "      <td>373</td>\n",
              "      <td>373</td>\n",
              "      <td>373</td>\n",
              "      <td>373</td>\n",
              "      <td>373</td>\n",
              "      <td>373</td>\n",
              "      <td>373</td>\n",
              "      <td>373</td>\n",
              "      <td>373</td>\n",
              "      <td>373</td>\n",
              "      <td>373</td>\n",
              "      <td>373</td>\n",
              "      <td>373</td>\n",
              "      <td>373</td>\n",
              "      <td>373</td>\n",
              "      <td>373</td>\n",
              "      <td>373</td>\n",
              "      <td>373</td>\n",
              "      <td>373</td>\n",
              "      <td>373</td>\n",
              "      <td>373</td>\n",
              "    </tr>\n",
              "  </tbody>\n",
              "</table>\n",
              "</div>"
            ],
            "text/plain": [
              "                        Age  Gender  ...  Attrition  PerformanceRating\n",
              "EmpDepartment                        ...                              \n",
              "Data Science             20      20  ...         20                 20\n",
              "Development             361     361  ...        361                361\n",
              "Finance                  49      49  ...         49                 49\n",
              "Human Resources          54      54  ...         54                 54\n",
              "Research & Development  343     343  ...        343                343\n",
              "Sales                   373     373  ...        373                373\n",
              "\n",
              "[6 rows x 26 columns]"
            ]
          },
          "metadata": {
            "tags": []
          },
          "execution_count": 16
        }
      ]
    },
    {
      "cell_type": "code",
      "metadata": {
        "id": "45xUfYulo7nS",
        "colab_type": "code",
        "colab": {
          "base_uri": "https://localhost:8080/",
          "height": 193
        },
        "outputId": "3720fff6-d352-443f-b0e6-5da2e77beab4"
      },
      "source": [
        "data.groupby('PerformanceRating').count()"
      ],
      "execution_count": 17,
      "outputs": [
        {
          "output_type": "execute_result",
          "data": {
            "text/html": [
              "<div>\n",
              "<style scoped>\n",
              "    .dataframe tbody tr th:only-of-type {\n",
              "        vertical-align: middle;\n",
              "    }\n",
              "\n",
              "    .dataframe tbody tr th {\n",
              "        vertical-align: top;\n",
              "    }\n",
              "\n",
              "    .dataframe thead th {\n",
              "        text-align: right;\n",
              "    }\n",
              "</style>\n",
              "<table border=\"1\" class=\"dataframe\">\n",
              "  <thead>\n",
              "    <tr style=\"text-align: right;\">\n",
              "      <th></th>\n",
              "      <th>Age</th>\n",
              "      <th>Gender</th>\n",
              "      <th>EducationBackground</th>\n",
              "      <th>MaritalStatus</th>\n",
              "      <th>EmpDepartment</th>\n",
              "      <th>EmpJobRole</th>\n",
              "      <th>BusinessTravelFrequency</th>\n",
              "      <th>DistanceFromHome</th>\n",
              "      <th>EmpEducationLevel</th>\n",
              "      <th>EmpEnvironmentSatisfaction</th>\n",
              "      <th>EmpHourlyRate</th>\n",
              "      <th>EmpJobInvolvement</th>\n",
              "      <th>EmpJobLevel</th>\n",
              "      <th>EmpJobSatisfaction</th>\n",
              "      <th>NumCompaniesWorked</th>\n",
              "      <th>OverTime</th>\n",
              "      <th>EmpLastSalaryHikePercent</th>\n",
              "      <th>EmpRelationshipSatisfaction</th>\n",
              "      <th>TotalWorkExperienceInYears</th>\n",
              "      <th>TrainingTimesLastYear</th>\n",
              "      <th>EmpWorkLifeBalance</th>\n",
              "      <th>ExperienceYearsAtThisCompany</th>\n",
              "      <th>ExperienceYearsInCurrentRole</th>\n",
              "      <th>YearsSinceLastPromotion</th>\n",
              "      <th>YearsWithCurrManager</th>\n",
              "      <th>Attrition</th>\n",
              "    </tr>\n",
              "    <tr>\n",
              "      <th>PerformanceRating</th>\n",
              "      <th></th>\n",
              "      <th></th>\n",
              "      <th></th>\n",
              "      <th></th>\n",
              "      <th></th>\n",
              "      <th></th>\n",
              "      <th></th>\n",
              "      <th></th>\n",
              "      <th></th>\n",
              "      <th></th>\n",
              "      <th></th>\n",
              "      <th></th>\n",
              "      <th></th>\n",
              "      <th></th>\n",
              "      <th></th>\n",
              "      <th></th>\n",
              "      <th></th>\n",
              "      <th></th>\n",
              "      <th></th>\n",
              "      <th></th>\n",
              "      <th></th>\n",
              "      <th></th>\n",
              "      <th></th>\n",
              "      <th></th>\n",
              "      <th></th>\n",
              "      <th></th>\n",
              "    </tr>\n",
              "  </thead>\n",
              "  <tbody>\n",
              "    <tr>\n",
              "      <th>2</th>\n",
              "      <td>194</td>\n",
              "      <td>194</td>\n",
              "      <td>194</td>\n",
              "      <td>194</td>\n",
              "      <td>194</td>\n",
              "      <td>194</td>\n",
              "      <td>194</td>\n",
              "      <td>194</td>\n",
              "      <td>194</td>\n",
              "      <td>194</td>\n",
              "      <td>194</td>\n",
              "      <td>194</td>\n",
              "      <td>194</td>\n",
              "      <td>194</td>\n",
              "      <td>194</td>\n",
              "      <td>194</td>\n",
              "      <td>194</td>\n",
              "      <td>194</td>\n",
              "      <td>194</td>\n",
              "      <td>194</td>\n",
              "      <td>194</td>\n",
              "      <td>194</td>\n",
              "      <td>194</td>\n",
              "      <td>194</td>\n",
              "      <td>194</td>\n",
              "      <td>194</td>\n",
              "    </tr>\n",
              "    <tr>\n",
              "      <th>3</th>\n",
              "      <td>874</td>\n",
              "      <td>874</td>\n",
              "      <td>874</td>\n",
              "      <td>874</td>\n",
              "      <td>874</td>\n",
              "      <td>874</td>\n",
              "      <td>874</td>\n",
              "      <td>874</td>\n",
              "      <td>874</td>\n",
              "      <td>874</td>\n",
              "      <td>874</td>\n",
              "      <td>874</td>\n",
              "      <td>874</td>\n",
              "      <td>874</td>\n",
              "      <td>874</td>\n",
              "      <td>874</td>\n",
              "      <td>874</td>\n",
              "      <td>874</td>\n",
              "      <td>874</td>\n",
              "      <td>874</td>\n",
              "      <td>874</td>\n",
              "      <td>874</td>\n",
              "      <td>874</td>\n",
              "      <td>874</td>\n",
              "      <td>874</td>\n",
              "      <td>874</td>\n",
              "    </tr>\n",
              "    <tr>\n",
              "      <th>4</th>\n",
              "      <td>132</td>\n",
              "      <td>132</td>\n",
              "      <td>132</td>\n",
              "      <td>132</td>\n",
              "      <td>132</td>\n",
              "      <td>132</td>\n",
              "      <td>132</td>\n",
              "      <td>132</td>\n",
              "      <td>132</td>\n",
              "      <td>132</td>\n",
              "      <td>132</td>\n",
              "      <td>132</td>\n",
              "      <td>132</td>\n",
              "      <td>132</td>\n",
              "      <td>132</td>\n",
              "      <td>132</td>\n",
              "      <td>132</td>\n",
              "      <td>132</td>\n",
              "      <td>132</td>\n",
              "      <td>132</td>\n",
              "      <td>132</td>\n",
              "      <td>132</td>\n",
              "      <td>132</td>\n",
              "      <td>132</td>\n",
              "      <td>132</td>\n",
              "      <td>132</td>\n",
              "    </tr>\n",
              "  </tbody>\n",
              "</table>\n",
              "</div>"
            ],
            "text/plain": [
              "                   Age  Gender  ...  YearsWithCurrManager  Attrition\n",
              "PerformanceRating               ...                                 \n",
              "2                  194     194  ...                   194        194\n",
              "3                  874     874  ...                   874        874\n",
              "4                  132     132  ...                   132        132\n",
              "\n",
              "[3 rows x 26 columns]"
            ]
          },
          "metadata": {
            "tags": []
          },
          "execution_count": 17
        }
      ]
    },
    {
      "cell_type": "code",
      "metadata": {
        "id": "eCy30jUurcFX",
        "colab_type": "code",
        "colab": {
          "base_uri": "https://localhost:8080/",
          "height": 193
        },
        "outputId": "3aa31738-6bf3-4194-8208-75d5fdca766c"
      },
      "source": [
        "Data_Finance = data[data['EmpDepartment'] == 'Finance']\n",
        "Data_Finance.groupby('PerformanceRating').count()"
      ],
      "execution_count": 18,
      "outputs": [
        {
          "output_type": "execute_result",
          "data": {
            "text/html": [
              "<div>\n",
              "<style scoped>\n",
              "    .dataframe tbody tr th:only-of-type {\n",
              "        vertical-align: middle;\n",
              "    }\n",
              "\n",
              "    .dataframe tbody tr th {\n",
              "        vertical-align: top;\n",
              "    }\n",
              "\n",
              "    .dataframe thead th {\n",
              "        text-align: right;\n",
              "    }\n",
              "</style>\n",
              "<table border=\"1\" class=\"dataframe\">\n",
              "  <thead>\n",
              "    <tr style=\"text-align: right;\">\n",
              "      <th></th>\n",
              "      <th>Age</th>\n",
              "      <th>Gender</th>\n",
              "      <th>EducationBackground</th>\n",
              "      <th>MaritalStatus</th>\n",
              "      <th>EmpDepartment</th>\n",
              "      <th>EmpJobRole</th>\n",
              "      <th>BusinessTravelFrequency</th>\n",
              "      <th>DistanceFromHome</th>\n",
              "      <th>EmpEducationLevel</th>\n",
              "      <th>EmpEnvironmentSatisfaction</th>\n",
              "      <th>EmpHourlyRate</th>\n",
              "      <th>EmpJobInvolvement</th>\n",
              "      <th>EmpJobLevel</th>\n",
              "      <th>EmpJobSatisfaction</th>\n",
              "      <th>NumCompaniesWorked</th>\n",
              "      <th>OverTime</th>\n",
              "      <th>EmpLastSalaryHikePercent</th>\n",
              "      <th>EmpRelationshipSatisfaction</th>\n",
              "      <th>TotalWorkExperienceInYears</th>\n",
              "      <th>TrainingTimesLastYear</th>\n",
              "      <th>EmpWorkLifeBalance</th>\n",
              "      <th>ExperienceYearsAtThisCompany</th>\n",
              "      <th>ExperienceYearsInCurrentRole</th>\n",
              "      <th>YearsSinceLastPromotion</th>\n",
              "      <th>YearsWithCurrManager</th>\n",
              "      <th>Attrition</th>\n",
              "    </tr>\n",
              "    <tr>\n",
              "      <th>PerformanceRating</th>\n",
              "      <th></th>\n",
              "      <th></th>\n",
              "      <th></th>\n",
              "      <th></th>\n",
              "      <th></th>\n",
              "      <th></th>\n",
              "      <th></th>\n",
              "      <th></th>\n",
              "      <th></th>\n",
              "      <th></th>\n",
              "      <th></th>\n",
              "      <th></th>\n",
              "      <th></th>\n",
              "      <th></th>\n",
              "      <th></th>\n",
              "      <th></th>\n",
              "      <th></th>\n",
              "      <th></th>\n",
              "      <th></th>\n",
              "      <th></th>\n",
              "      <th></th>\n",
              "      <th></th>\n",
              "      <th></th>\n",
              "      <th></th>\n",
              "      <th></th>\n",
              "      <th></th>\n",
              "    </tr>\n",
              "  </thead>\n",
              "  <tbody>\n",
              "    <tr>\n",
              "      <th>2</th>\n",
              "      <td>15</td>\n",
              "      <td>15</td>\n",
              "      <td>15</td>\n",
              "      <td>15</td>\n",
              "      <td>15</td>\n",
              "      <td>15</td>\n",
              "      <td>15</td>\n",
              "      <td>15</td>\n",
              "      <td>15</td>\n",
              "      <td>15</td>\n",
              "      <td>15</td>\n",
              "      <td>15</td>\n",
              "      <td>15</td>\n",
              "      <td>15</td>\n",
              "      <td>15</td>\n",
              "      <td>15</td>\n",
              "      <td>15</td>\n",
              "      <td>15</td>\n",
              "      <td>15</td>\n",
              "      <td>15</td>\n",
              "      <td>15</td>\n",
              "      <td>15</td>\n",
              "      <td>15</td>\n",
              "      <td>15</td>\n",
              "      <td>15</td>\n",
              "      <td>15</td>\n",
              "    </tr>\n",
              "    <tr>\n",
              "      <th>3</th>\n",
              "      <td>30</td>\n",
              "      <td>30</td>\n",
              "      <td>30</td>\n",
              "      <td>30</td>\n",
              "      <td>30</td>\n",
              "      <td>30</td>\n",
              "      <td>30</td>\n",
              "      <td>30</td>\n",
              "      <td>30</td>\n",
              "      <td>30</td>\n",
              "      <td>30</td>\n",
              "      <td>30</td>\n",
              "      <td>30</td>\n",
              "      <td>30</td>\n",
              "      <td>30</td>\n",
              "      <td>30</td>\n",
              "      <td>30</td>\n",
              "      <td>30</td>\n",
              "      <td>30</td>\n",
              "      <td>30</td>\n",
              "      <td>30</td>\n",
              "      <td>30</td>\n",
              "      <td>30</td>\n",
              "      <td>30</td>\n",
              "      <td>30</td>\n",
              "      <td>30</td>\n",
              "    </tr>\n",
              "    <tr>\n",
              "      <th>4</th>\n",
              "      <td>4</td>\n",
              "      <td>4</td>\n",
              "      <td>4</td>\n",
              "      <td>4</td>\n",
              "      <td>4</td>\n",
              "      <td>4</td>\n",
              "      <td>4</td>\n",
              "      <td>4</td>\n",
              "      <td>4</td>\n",
              "      <td>4</td>\n",
              "      <td>4</td>\n",
              "      <td>4</td>\n",
              "      <td>4</td>\n",
              "      <td>4</td>\n",
              "      <td>4</td>\n",
              "      <td>4</td>\n",
              "      <td>4</td>\n",
              "      <td>4</td>\n",
              "      <td>4</td>\n",
              "      <td>4</td>\n",
              "      <td>4</td>\n",
              "      <td>4</td>\n",
              "      <td>4</td>\n",
              "      <td>4</td>\n",
              "      <td>4</td>\n",
              "      <td>4</td>\n",
              "    </tr>\n",
              "  </tbody>\n",
              "</table>\n",
              "</div>"
            ],
            "text/plain": [
              "                   Age  Gender  ...  YearsWithCurrManager  Attrition\n",
              "PerformanceRating               ...                                 \n",
              "2                   15      15  ...                    15         15\n",
              "3                   30      30  ...                    30         30\n",
              "4                    4       4  ...                     4          4\n",
              "\n",
              "[3 rows x 26 columns]"
            ]
          },
          "metadata": {
            "tags": []
          },
          "execution_count": 18
        }
      ]
    },
    {
      "cell_type": "code",
      "metadata": {
        "id": "0KeXD1W5FJZ2",
        "colab_type": "code",
        "colab": {}
      },
      "source": [
        "#Copy DEPARTMENT wISE\n",
        "#dept = data.iloc[:,[5,27]].copy()\n",
        "#dept_per = dept.copy()\n"
      ],
      "execution_count": 0,
      "outputs": []
    },
    {
      "cell_type": "code",
      "metadata": {
        "id": "_I2bBLJPFOHE",
        "colab_type": "code",
        "colab": {
          "base_uri": "https://localhost:8080/",
          "height": 324
        },
        "outputId": "45e6515b-d8e7-477b-82ba-39ddb76764da"
      },
      "source": [
        "plt.figure(figsize=(10,4.5))\n",
        "sns.barplot(data['EmpDepartment'],data['PerformanceRating'])"
      ],
      "execution_count": 20,
      "outputs": [
        {
          "output_type": "execute_result",
          "data": {
            "text/plain": [
              "<matplotlib.axes._subplots.AxesSubplot at 0x7fe6f4433358>"
            ]
          },
          "metadata": {
            "tags": []
          },
          "execution_count": 20
        },
        {
          "output_type": "display_data",
          "data": {
            "image/png": "[encoded data removed]",
            "text/plain": [
              "<Figure size 720x324 with 1 Axes>"
            ]
          },
          "metadata": {
            "tags": []
          }
        }
      ]
    },
    {
      "cell_type": "code",
      "metadata": {
        "id": "5cii3xxwJ8BV",
        "colab_type": "code",
        "colab": {
          "base_uri": "https://localhost:8080/",
          "height": 357
        },
        "outputId": "8b17544a-d462-4a34-a4b1-40b2d9d3ba36"
      },
      "source": [
        "# Analyze each department separately\n",
        "data.groupby(by='EmpDepartment')['PerformanceRating'].value_counts()"
      ],
      "execution_count": 21,
      "outputs": [
        {
          "output_type": "execute_result",
          "data": {
            "text/plain": [
              "EmpDepartment           PerformanceRating\n",
              "Data Science            3                     17\n",
              "                        4                      2\n",
              "                        2                      1\n",
              "Development             3                    304\n",
              "                        4                     44\n",
              "                        2                     13\n",
              "Finance                 3                     30\n",
              "                        2                     15\n",
              "                        4                      4\n",
              "Human Resources         3                     38\n",
              "                        2                     10\n",
              "                        4                      6\n",
              "Research & Development  3                    234\n",
              "                        2                     68\n",
              "                        4                     41\n",
              "Sales                   3                    251\n",
              "                        2                     87\n",
              "                        4                     35\n",
              "Name: PerformanceRating, dtype: int64"
            ]
          },
          "metadata": {
            "tags": []
          },
          "execution_count": 21
        }
      ]
    },
    {
      "cell_type": "code",
      "metadata": {
        "id": "0YrszmXBMGYj",
        "colab_type": "code",
        "colab": {}
      },
      "source": [
        "# Creating a new dataframe to analyze each department separately\n",
        "department = pd.get_dummies(data['EmpDepartment'])\n",
        "performance = pd.DataFrame(data['PerformanceRating'])\n",
        "dept_rating = pd.concat([department,performance],axis=1)"
      ],
      "execution_count": 0,
      "outputs": []
    },
    {
      "cell_type": "code",
      "metadata": {
        "id": "7lplPvy_KpME",
        "colab_type": "code",
        "colab": {
          "base_uri": "https://localhost:8080/",
          "height": 606
        },
        "outputId": "d40cce75-d84e-4a33-86f0-31ee1e89af11"
      },
      "source": [
        "plt.figure(figsize=(15,10))\n",
        "plt.subplot(2,3,1)\n",
        "sns.barplot(dept_rating['PerformanceRating'],dept_rating['Sales'])\n",
        "plt.subplot(2,3,2)\n",
        "sns.barplot(dept_rating['PerformanceRating'],dept_rating['Development'])\n",
        "plt.subplot(2,3,3)\n",
        "sns.barplot(dept_rating['PerformanceRating'],dept_rating['Research & Development'])\n",
        "plt.subplot(2,3,4)\n",
        "sns.barplot(dept_rating['PerformanceRating'],dept_rating['Human Resources'])\n",
        "plt.subplot(2,3,5)\n",
        "sns.barplot(dept_rating['PerformanceRating'],dept_rating['Finance'])\n",
        "plt.subplot(2,3,6)\n",
        "sns.barplot(dept_rating['PerformanceRating'],dept_rating['Data Science'])\n",
        "plt.show()"
      ],
      "execution_count": 23,
      "outputs": [
        {
          "output_type": "display_data",
          "data": {
            "image/png": "[encoded data removed]",
            "text/plain": [
              "<Figure size 1080x720 with 6 Axes>"
            ]
          },
          "metadata": {
            "tags": []
          }
        }
      ]
    },
    {
      "cell_type": "code",
      "metadata": {
        "id": "wn6BjmEdUpRI",
        "colab_type": "code",
        "colab": {}
      },
      "source": [
        "corrmat = data.corr()"
      ],
      "execution_count": 0,
      "outputs": []
    },
    {
      "cell_type": "code",
      "metadata": {
        "id": "RbI58VM9Uvwg",
        "colab_type": "code",
        "colab": {
          "base_uri": "https://localhost:8080/",
          "height": 193
        },
        "outputId": "4896559e-a705-49b3-d8d5-e744e014a39a"
      },
      "source": [
        "corrmat[corrmat.PerformanceRating>0.1] "
      ],
      "execution_count": 27,
      "outputs": [
        {
          "output_type": "execute_result",
          "data": {
            "text/html": [
              "<div>\n",
              "<style scoped>\n",
              "    .dataframe tbody tr th:only-of-type {\n",
              "        vertical-align: middle;\n",
              "    }\n",
              "\n",
              "    .dataframe tbody tr th {\n",
              "        vertical-align: top;\n",
              "    }\n",
              "\n",
              "    .dataframe thead th {\n",
              "        text-align: right;\n",
              "    }\n",
              "</style>\n",
              "<table border=\"1\" class=\"dataframe\">\n",
              "  <thead>\n",
              "    <tr style=\"text-align: right;\">\n",
              "      <th></th>\n",
              "      <th>Age</th>\n",
              "      <th>DistanceFromHome</th>\n",
              "      <th>EmpEducationLevel</th>\n",
              "      <th>EmpEnvironmentSatisfaction</th>\n",
              "      <th>EmpHourlyRate</th>\n",
              "      <th>EmpJobInvolvement</th>\n",
              "      <th>EmpJobLevel</th>\n",
              "      <th>EmpJobSatisfaction</th>\n",
              "      <th>NumCompaniesWorked</th>\n",
              "      <th>EmpLastSalaryHikePercent</th>\n",
              "      <th>EmpRelationshipSatisfaction</th>\n",
              "      <th>TotalWorkExperienceInYears</th>\n",
              "      <th>TrainingTimesLastYear</th>\n",
              "      <th>EmpWorkLifeBalance</th>\n",
              "      <th>ExperienceYearsAtThisCompany</th>\n",
              "      <th>ExperienceYearsInCurrentRole</th>\n",
              "      <th>YearsSinceLastPromotion</th>\n",
              "      <th>YearsWithCurrManager</th>\n",
              "      <th>PerformanceRating</th>\n",
              "    </tr>\n",
              "  </thead>\n",
              "  <tbody>\n",
              "    <tr>\n",
              "      <th>EmpEnvironmentSatisfaction</th>\n",
              "      <td>0.013814</td>\n",
              "      <td>-0.017719</td>\n",
              "      <td>-0.037103</td>\n",
              "      <td>1.000000</td>\n",
              "      <td>-0.049501</td>\n",
              "      <td>0.004865</td>\n",
              "      <td>-0.008272</td>\n",
              "      <td>-0.004319</td>\n",
              "      <td>0.017270</td>\n",
              "      <td>-0.047271</td>\n",
              "      <td>-0.010504</td>\n",
              "      <td>-0.012894</td>\n",
              "      <td>0.001192</td>\n",
              "      <td>-0.000262</td>\n",
              "      <td>-0.000561</td>\n",
              "      <td>0.025491</td>\n",
              "      <td>0.010732</td>\n",
              "      <td>-0.011702</td>\n",
              "      <td>0.395561</td>\n",
              "    </tr>\n",
              "    <tr>\n",
              "      <th>EmpLastSalaryHikePercent</th>\n",
              "      <td>-0.006105</td>\n",
              "      <td>0.044974</td>\n",
              "      <td>0.002358</td>\n",
              "      <td>-0.047271</td>\n",
              "      <td>-0.015934</td>\n",
              "      <td>-0.001742</td>\n",
              "      <td>-0.020975</td>\n",
              "      <td>0.031847</td>\n",
              "      <td>-0.011788</td>\n",
              "      <td>1.000000</td>\n",
              "      <td>-0.042892</td>\n",
              "      <td>-0.005933</td>\n",
              "      <td>-0.013439</td>\n",
              "      <td>-0.017001</td>\n",
              "      <td>-0.019830</td>\n",
              "      <td>-0.004957</td>\n",
              "      <td>-0.015911</td>\n",
              "      <td>-0.007666</td>\n",
              "      <td>0.333722</td>\n",
              "    </tr>\n",
              "    <tr>\n",
              "      <th>EmpWorkLifeBalance</th>\n",
              "      <td>-0.019563</td>\n",
              "      <td>-0.044788</td>\n",
              "      <td>0.010276</td>\n",
              "      <td>-0.000262</td>\n",
              "      <td>0.016189</td>\n",
              "      <td>-0.014129</td>\n",
              "      <td>0.049218</td>\n",
              "      <td>-0.018548</td>\n",
              "      <td>0.002489</td>\n",
              "      <td>-0.017001</td>\n",
              "      <td>-0.004906</td>\n",
              "      <td>0.015495</td>\n",
              "      <td>0.037048</td>\n",
              "      <td>1.000000</td>\n",
              "      <td>0.023479</td>\n",
              "      <td>0.045719</td>\n",
              "      <td>0.015773</td>\n",
              "      <td>0.010518</td>\n",
              "      <td>0.124429</td>\n",
              "    </tr>\n",
              "    <tr>\n",
              "      <th>PerformanceRating</th>\n",
              "      <td>-0.040164</td>\n",
              "      <td>-0.046142</td>\n",
              "      <td>0.020529</td>\n",
              "      <td>0.395561</td>\n",
              "      <td>-0.043116</td>\n",
              "      <td>-0.010539</td>\n",
              "      <td>-0.076632</td>\n",
              "      <td>0.000606</td>\n",
              "      <td>0.020980</td>\n",
              "      <td>0.333722</td>\n",
              "      <td>-0.019502</td>\n",
              "      <td>-0.068141</td>\n",
              "      <td>-0.005443</td>\n",
              "      <td>0.124429</td>\n",
              "      <td>-0.111645</td>\n",
              "      <td>-0.147638</td>\n",
              "      <td>-0.167629</td>\n",
              "      <td>-0.122313</td>\n",
              "      <td>1.000000</td>\n",
              "    </tr>\n",
              "  </tbody>\n",
              "</table>\n",
              "</div>"
            ],
            "text/plain": [
              "                                 Age  ...  PerformanceRating\n",
              "EmpEnvironmentSatisfaction  0.013814  ...           0.395561\n",
              "EmpLastSalaryHikePercent   -0.006105  ...           0.333722\n",
              "EmpWorkLifeBalance         -0.019563  ...           0.124429\n",
              "PerformanceRating          -0.040164  ...           1.000000\n",
              "\n",
              "[4 rows x 19 columns]"
            ]
          },
          "metadata": {
            "tags": []
          },
          "execution_count": 27
        }
      ]
    },
    {
      "cell_type": "code",
      "metadata": {
        "id": "JPhm2yWcarSW",
        "colab_type": "code",
        "colab": {
          "base_uri": "https://localhost:8080/",
          "height": 204
        },
        "outputId": "b757fa66-9500-49df-80f8-bfec1d8b2b44"
      },
      "source": [
        "Env_Satisfaction = pd.crosstab(data.EmpEnvironmentSatisfaction,dept_rating.PerformanceRating)\n",
        "Env_Satisfaction"
      ],
      "execution_count": 28,
      "outputs": [
        {
          "output_type": "execute_result",
          "data": {
            "text/html": [
              "<div>\n",
              "<style scoped>\n",
              "    .dataframe tbody tr th:only-of-type {\n",
              "        vertical-align: middle;\n",
              "    }\n",
              "\n",
              "    .dataframe tbody tr th {\n",
              "        vertical-align: top;\n",
              "    }\n",
              "\n",
              "    .dataframe thead th {\n",
              "        text-align: right;\n",
              "    }\n",
              "</style>\n",
              "<table border=\"1\" class=\"dataframe\">\n",
              "  <thead>\n",
              "    <tr style=\"text-align: right;\">\n",
              "      <th>PerformanceRating</th>\n",
              "      <th>2</th>\n",
              "      <th>3</th>\n",
              "      <th>4</th>\n",
              "    </tr>\n",
              "    <tr>\n",
              "      <th>EmpEnvironmentSatisfaction</th>\n",
              "      <th></th>\n",
              "      <th></th>\n",
              "      <th></th>\n",
              "    </tr>\n",
              "  </thead>\n",
              "  <tbody>\n",
              "    <tr>\n",
              "      <th>1</th>\n",
              "      <td>90</td>\n",
              "      <td>127</td>\n",
              "      <td>13</td>\n",
              "    </tr>\n",
              "    <tr>\n",
              "      <th>2</th>\n",
              "      <td>98</td>\n",
              "      <td>130</td>\n",
              "      <td>14</td>\n",
              "    </tr>\n",
              "    <tr>\n",
              "      <th>3</th>\n",
              "      <td>3</td>\n",
              "      <td>310</td>\n",
              "      <td>54</td>\n",
              "    </tr>\n",
              "    <tr>\n",
              "      <th>4</th>\n",
              "      <td>3</td>\n",
              "      <td>307</td>\n",
              "      <td>51</td>\n",
              "    </tr>\n",
              "  </tbody>\n",
              "</table>\n",
              "</div>"
            ],
            "text/plain": [
              "PerformanceRating            2    3   4\n",
              "EmpEnvironmentSatisfaction             \n",
              "1                           90  127  13\n",
              "2                           98  130  14\n",
              "3                            3  310  54\n",
              "4                            3  307  51"
            ]
          },
          "metadata": {
            "tags": []
          },
          "execution_count": 28
        }
      ]
    },
    {
      "cell_type": "code",
      "metadata": {
        "id": "H1Sfx0-da0Ga",
        "colab_type": "code",
        "colab": {
          "base_uri": "https://localhost:8080/",
          "height": 173
        },
        "outputId": "a44a1f7c-fc43-4d45-894d-8dcee05715db"
      },
      "source": [
        "Env_Satisfaction.reset_index(inplace=True)\n",
        "Env_Satisfaction"
      ],
      "execution_count": 29,
      "outputs": [
        {
          "output_type": "execute_result",
          "data": {
            "text/html": [
              "<div>\n",
              "<style scoped>\n",
              "    .dataframe tbody tr th:only-of-type {\n",
              "        vertical-align: middle;\n",
              "    }\n",
              "\n",
              "    .dataframe tbody tr th {\n",
              "        vertical-align: top;\n",
              "    }\n",
              "\n",
              "    .dataframe thead th {\n",
              "        text-align: right;\n",
              "    }\n",
              "</style>\n",
              "<table border=\"1\" class=\"dataframe\">\n",
              "  <thead>\n",
              "    <tr style=\"text-align: right;\">\n",
              "      <th>PerformanceRating</th>\n",
              "      <th>EmpEnvironmentSatisfaction</th>\n",
              "      <th>2</th>\n",
              "      <th>3</th>\n",
              "      <th>4</th>\n",
              "    </tr>\n",
              "  </thead>\n",
              "  <tbody>\n",
              "    <tr>\n",
              "      <th>0</th>\n",
              "      <td>1</td>\n",
              "      <td>90</td>\n",
              "      <td>127</td>\n",
              "      <td>13</td>\n",
              "    </tr>\n",
              "    <tr>\n",
              "      <th>1</th>\n",
              "      <td>2</td>\n",
              "      <td>98</td>\n",
              "      <td>130</td>\n",
              "      <td>14</td>\n",
              "    </tr>\n",
              "    <tr>\n",
              "      <th>2</th>\n",
              "      <td>3</td>\n",
              "      <td>3</td>\n",
              "      <td>310</td>\n",
              "      <td>54</td>\n",
              "    </tr>\n",
              "    <tr>\n",
              "      <th>3</th>\n",
              "      <td>4</td>\n",
              "      <td>3</td>\n",
              "      <td>307</td>\n",
              "      <td>51</td>\n",
              "    </tr>\n",
              "  </tbody>\n",
              "</table>\n",
              "</div>"
            ],
            "text/plain": [
              "PerformanceRating  EmpEnvironmentSatisfaction   2    3   4\n",
              "0                                           1  90  127  13\n",
              "1                                           2  98  130  14\n",
              "2                                           3   3  310  54\n",
              "3                                           4   3  307  51"
            ]
          },
          "metadata": {
            "tags": []
          },
          "execution_count": 29
        }
      ]
    },
    {
      "cell_type": "code",
      "metadata": {
        "id": "3vIBoU9qdP5X",
        "colab_type": "code",
        "colab": {
          "base_uri": "https://localhost:8080/",
          "height": 34
        },
        "outputId": "f5ad2ba1-837a-413b-dcc0-a25259da170f"
      },
      "source": [
        "x = np.arange(len(Env_Satisfaction['EmpEnvironmentSatisfaction']))\n",
        "x"
      ],
      "execution_count": 30,
      "outputs": [
        {
          "output_type": "execute_result",
          "data": {
            "text/plain": [
              "array([0, 1, 2, 3])"
            ]
          },
          "metadata": {
            "tags": []
          },
          "execution_count": 30
        }
      ]
    },
    {
      "cell_type": "code",
      "metadata": {
        "id": "VqfjGFgmdYXI",
        "colab_type": "code",
        "colab": {
          "base_uri": "https://localhost:8080/",
          "height": 312
        },
        "outputId": "cc64e1b9-11ce-40fa-be8b-1e68fb2c62db"
      },
      "source": [
        "plt.xticks(x,['Low','Medium','High','Very-High'])\n",
        "plt.bar(x+0.00, Env_Satisfaction[2],width=0.25,label='Good')\n",
        "plt.bar(x+0.25, Env_Satisfaction[3],width=0.25,label='Medium')\n",
        "plt.bar(x+0.50, Env_Satisfaction[4],width=0.25,label='Outstanding')\n",
        "plt.legend(loc='best',shadow=True)\n",
        "plt.xlabel('Employee Environment Satisfaction')\n",
        "plt.ylabel('Number of people')\n",
        "plt.title('Employee Environment Satisfaction Wise Performance')"
      ],
      "execution_count": 31,
      "outputs": [
        {
          "output_type": "execute_result",
          "data": {
            "text/plain": [
              "Text(0.5, 1.0, 'Employee Environment Satisfaction Wise Performance')"
            ]
          },
          "metadata": {
            "tags": []
          },
          "execution_count": 31
        },
        {
          "output_type": "display_data",
          "data": {
            "image/png": "[encoded data removed]",
            "text/plain": [
              "<Figure size 432x288 with 1 Axes>"
            ]
          },
          "metadata": {
            "tags": []
          }
        }
      ]
    },
    {
      "cell_type": "code",
      "metadata": {
        "id": "XPN-V2zvgGWs",
        "colab_type": "code",
        "colab": {
          "base_uri": "https://localhost:8080/",
          "height": 545
        },
        "outputId": "d86d5c08-068c-4214-981a-b09214710379"
      },
      "source": [
        "Emp_SalaryHike = pd.crosstab(data.EmpLastSalaryHikePercent,dept_rating.PerformanceRating)\n",
        "Emp_SalaryHike"
      ],
      "execution_count": 32,
      "outputs": [
        {
          "output_type": "execute_result",
          "data": {
            "text/html": [
              "<div>\n",
              "<style scoped>\n",
              "    .dataframe tbody tr th:only-of-type {\n",
              "        vertical-align: middle;\n",
              "    }\n",
              "\n",
              "    .dataframe tbody tr th {\n",
              "        vertical-align: top;\n",
              "    }\n",
              "\n",
              "    .dataframe thead th {\n",
              "        text-align: right;\n",
              "    }\n",
              "</style>\n",
              "<table border=\"1\" class=\"dataframe\">\n",
              "  <thead>\n",
              "    <tr style=\"text-align: right;\">\n",
              "      <th>PerformanceRating</th>\n",
              "      <th>2</th>\n",
              "      <th>3</th>\n",
              "      <th>4</th>\n",
              "    </tr>\n",
              "    <tr>\n",
              "      <th>EmpLastSalaryHikePercent</th>\n",
              "      <th></th>\n",
              "      <th></th>\n",
              "      <th></th>\n",
              "    </tr>\n",
              "  </thead>\n",
              "  <tbody>\n",
              "    <tr>\n",
              "      <th>11</th>\n",
              "      <td>28</td>\n",
              "      <td>140</td>\n",
              "      <td>1</td>\n",
              "    </tr>\n",
              "    <tr>\n",
              "      <th>12</th>\n",
              "      <td>30</td>\n",
              "      <td>123</td>\n",
              "      <td>2</td>\n",
              "    </tr>\n",
              "    <tr>\n",
              "      <th>13</th>\n",
              "      <td>27</td>\n",
              "      <td>138</td>\n",
              "      <td>3</td>\n",
              "    </tr>\n",
              "    <tr>\n",
              "      <th>14</th>\n",
              "      <td>28</td>\n",
              "      <td>140</td>\n",
              "      <td>4</td>\n",
              "    </tr>\n",
              "    <tr>\n",
              "      <th>15</th>\n",
              "      <td>11</td>\n",
              "      <td>67</td>\n",
              "      <td>4</td>\n",
              "    </tr>\n",
              "    <tr>\n",
              "      <th>16</th>\n",
              "      <td>12</td>\n",
              "      <td>54</td>\n",
              "      <td>2</td>\n",
              "    </tr>\n",
              "    <tr>\n",
              "      <th>17</th>\n",
              "      <td>9</td>\n",
              "      <td>55</td>\n",
              "      <td>3</td>\n",
              "    </tr>\n",
              "    <tr>\n",
              "      <th>18</th>\n",
              "      <td>10</td>\n",
              "      <td>63</td>\n",
              "      <td>0</td>\n",
              "    </tr>\n",
              "    <tr>\n",
              "      <th>19</th>\n",
              "      <td>10</td>\n",
              "      <td>51</td>\n",
              "      <td>2</td>\n",
              "    </tr>\n",
              "    <tr>\n",
              "      <th>20</th>\n",
              "      <td>9</td>\n",
              "      <td>14</td>\n",
              "      <td>27</td>\n",
              "    </tr>\n",
              "    <tr>\n",
              "      <th>21</th>\n",
              "      <td>4</td>\n",
              "      <td>6</td>\n",
              "      <td>24</td>\n",
              "    </tr>\n",
              "    <tr>\n",
              "      <th>22</th>\n",
              "      <td>7</td>\n",
              "      <td>13</td>\n",
              "      <td>27</td>\n",
              "    </tr>\n",
              "    <tr>\n",
              "      <th>23</th>\n",
              "      <td>4</td>\n",
              "      <td>2</td>\n",
              "      <td>15</td>\n",
              "    </tr>\n",
              "    <tr>\n",
              "      <th>24</th>\n",
              "      <td>2</td>\n",
              "      <td>5</td>\n",
              "      <td>11</td>\n",
              "    </tr>\n",
              "    <tr>\n",
              "      <th>25</th>\n",
              "      <td>3</td>\n",
              "      <td>3</td>\n",
              "      <td>7</td>\n",
              "    </tr>\n",
              "  </tbody>\n",
              "</table>\n",
              "</div>"
            ],
            "text/plain": [
              "PerformanceRating          2    3   4\n",
              "EmpLastSalaryHikePercent             \n",
              "11                        28  140   1\n",
              "12                        30  123   2\n",
              "13                        27  138   3\n",
              "14                        28  140   4\n",
              "15                        11   67   4\n",
              "16                        12   54   2\n",
              "17                         9   55   3\n",
              "18                        10   63   0\n",
              "19                        10   51   2\n",
              "20                         9   14  27\n",
              "21                         4    6  24\n",
              "22                         7   13  27\n",
              "23                         4    2  15\n",
              "24                         2    5  11\n",
              "25                         3    3   7"
            ]
          },
          "metadata": {
            "tags": []
          },
          "execution_count": 32
        }
      ]
    },
    {
      "cell_type": "code",
      "metadata": {
        "id": "u8BgUaFIhEyY",
        "colab_type": "code",
        "colab": {
          "base_uri": "https://localhost:8080/",
          "height": 514
        },
        "outputId": "bb9254a9-1057-4d46-f11f-e306e3bc4f9f"
      },
      "source": [
        "Emp_SalaryHike.reset_index(inplace=True)\n",
        "Emp_SalaryHike "
      ],
      "execution_count": 33,
      "outputs": [
        {
          "output_type": "execute_result",
          "data": {
            "text/html": [
              "<div>\n",
              "<style scoped>\n",
              "    .dataframe tbody tr th:only-of-type {\n",
              "        vertical-align: middle;\n",
              "    }\n",
              "\n",
              "    .dataframe tbody tr th {\n",
              "        vertical-align: top;\n",
              "    }\n",
              "\n",
              "    .dataframe thead th {\n",
              "        text-align: right;\n",
              "    }\n",
              "</style>\n",
              "<table border=\"1\" class=\"dataframe\">\n",
              "  <thead>\n",
              "    <tr style=\"text-align: right;\">\n",
              "      <th>PerformanceRating</th>\n",
              "      <th>EmpLastSalaryHikePercent</th>\n",
              "      <th>2</th>\n",
              "      <th>3</th>\n",
              "      <th>4</th>\n",
              "    </tr>\n",
              "  </thead>\n",
              "  <tbody>\n",
              "    <tr>\n",
              "      <th>0</th>\n",
              "      <td>11</td>\n",
              "      <td>28</td>\n",
              "      <td>140</td>\n",
              "      <td>1</td>\n",
              "    </tr>\n",
              "    <tr>\n",
              "      <th>1</th>\n",
              "      <td>12</td>\n",
              "      <td>30</td>\n",
              "      <td>123</td>\n",
              "      <td>2</td>\n",
              "    </tr>\n",
              "    <tr>\n",
              "      <th>2</th>\n",
              "      <td>13</td>\n",
              "      <td>27</td>\n",
              "      <td>138</td>\n",
              "      <td>3</td>\n",
              "    </tr>\n",
              "    <tr>\n",
              "      <th>3</th>\n",
              "      <td>14</td>\n",
              "      <td>28</td>\n",
              "      <td>140</td>\n",
              "      <td>4</td>\n",
              "    </tr>\n",
              "    <tr>\n",
              "      <th>4</th>\n",
              "      <td>15</td>\n",
              "      <td>11</td>\n",
              "      <td>67</td>\n",
              "      <td>4</td>\n",
              "    </tr>\n",
              "    <tr>\n",
              "      <th>5</th>\n",
              "      <td>16</td>\n",
              "      <td>12</td>\n",
              "      <td>54</td>\n",
              "      <td>2</td>\n",
              "    </tr>\n",
              "    <tr>\n",
              "      <th>6</th>\n",
              "      <td>17</td>\n",
              "      <td>9</td>\n",
              "      <td>55</td>\n",
              "      <td>3</td>\n",
              "    </tr>\n",
              "    <tr>\n",
              "      <th>7</th>\n",
              "      <td>18</td>\n",
              "      <td>10</td>\n",
              "      <td>63</td>\n",
              "      <td>0</td>\n",
              "    </tr>\n",
              "    <tr>\n",
              "      <th>8</th>\n",
              "      <td>19</td>\n",
              "      <td>10</td>\n",
              "      <td>51</td>\n",
              "      <td>2</td>\n",
              "    </tr>\n",
              "    <tr>\n",
              "      <th>9</th>\n",
              "      <td>20</td>\n",
              "      <td>9</td>\n",
              "      <td>14</td>\n",
              "      <td>27</td>\n",
              "    </tr>\n",
              "    <tr>\n",
              "      <th>10</th>\n",
              "      <td>21</td>\n",
              "      <td>4</td>\n",
              "      <td>6</td>\n",
              "      <td>24</td>\n",
              "    </tr>\n",
              "    <tr>\n",
              "      <th>11</th>\n",
              "      <td>22</td>\n",
              "      <td>7</td>\n",
              "      <td>13</td>\n",
              "      <td>27</td>\n",
              "    </tr>\n",
              "    <tr>\n",
              "      <th>12</th>\n",
              "      <td>23</td>\n",
              "      <td>4</td>\n",
              "      <td>2</td>\n",
              "      <td>15</td>\n",
              "    </tr>\n",
              "    <tr>\n",
              "      <th>13</th>\n",
              "      <td>24</td>\n",
              "      <td>2</td>\n",
              "      <td>5</td>\n",
              "      <td>11</td>\n",
              "    </tr>\n",
              "    <tr>\n",
              "      <th>14</th>\n",
              "      <td>25</td>\n",
              "      <td>3</td>\n",
              "      <td>3</td>\n",
              "      <td>7</td>\n",
              "    </tr>\n",
              "  </tbody>\n",
              "</table>\n",
              "</div>"
            ],
            "text/plain": [
              "PerformanceRating  EmpLastSalaryHikePercent   2    3   4\n",
              "0                                        11  28  140   1\n",
              "1                                        12  30  123   2\n",
              "2                                        13  27  138   3\n",
              "3                                        14  28  140   4\n",
              "4                                        15  11   67   4\n",
              "5                                        16  12   54   2\n",
              "6                                        17   9   55   3\n",
              "7                                        18  10   63   0\n",
              "8                                        19  10   51   2\n",
              "9                                        20   9   14  27\n",
              "10                                       21   4    6  24\n",
              "11                                       22   7   13  27\n",
              "12                                       23   4    2  15\n",
              "13                                       24   2    5  11\n",
              "14                                       25   3    3   7"
            ]
          },
          "metadata": {
            "tags": []
          },
          "execution_count": 33
        }
      ]
    },
    {
      "cell_type": "code",
      "metadata": {
        "id": "SuiVSoAghRXj",
        "colab_type": "code",
        "colab": {
          "base_uri": "https://localhost:8080/",
          "height": 34
        },
        "outputId": "d2244b03-b23e-4c56-ac12-9fd078186beb"
      },
      "source": [
        "x = np.arange(len(Emp_SalaryHike['EmpLastSalaryHikePercent']))\n",
        "x"
      ],
      "execution_count": 34,
      "outputs": [
        {
          "output_type": "execute_result",
          "data": {
            "text/plain": [
              "array([ 0,  1,  2,  3,  4,  5,  6,  7,  8,  9, 10, 11, 12, 13, 14])"
            ]
          },
          "metadata": {
            "tags": []
          },
          "execution_count": 34
        }
      ]
    },
    {
      "cell_type": "code",
      "metadata": {
        "id": "2J7o_2P9hy4r",
        "colab_type": "code",
        "colab": {
          "base_uri": "https://localhost:8080/",
          "height": 312
        },
        "outputId": "f09e9a81-eacc-4875-b0d9-f9324757f188"
      },
      "source": [
        "plt.xticks(x,Emp_SalaryHike['EmpLastSalaryHikePercent'])\n",
        "plt.bar(x+0.00, Emp_SalaryHike[2],width=0.25,label='Good')\n",
        "plt.bar(x+0.25, Emp_SalaryHike[3],width=0.25,label='Medium')\n",
        "plt.bar(x+0.50, Emp_SalaryHike[4],width=0.25,label='Outstanding')\n",
        "plt.legend(loc='best',shadow=True)\n",
        "plt.xlabel('Employee Last Salary Hike Percentage')\n",
        "plt.ylabel('Number of people')\n",
        "plt.title('Last Salary Hike percent Wise Performance')"
      ],
      "execution_count": 35,
      "outputs": [
        {
          "output_type": "execute_result",
          "data": {
            "text/plain": [
              "Text(0.5, 1.0, 'Last Salary Hike percent Wise Performance')"
            ]
          },
          "metadata": {
            "tags": []
          },
          "execution_count": 35
        },
        {
          "output_type": "display_data",
          "data": {
            "image/png": "[encoded data removed]",
            "text/plain": [
              "<Figure size 432x288 with 1 Axes>"
            ]
          },
          "metadata": {
            "tags": []
          }
        }
      ]
    },
    {
      "cell_type": "code",
      "metadata": {
        "id": "uANpmrpElGxe",
        "colab_type": "code",
        "colab": {
          "base_uri": "https://localhost:8080/",
          "height": 204
        },
        "outputId": "b3a0905d-e799-45c6-8684-7b6f2bb09a18"
      },
      "source": [
        "EmpWorkLife_Balance = pd.crosstab(data.EmpWorkLifeBalance,dept_rating.PerformanceRating)\n",
        "EmpWorkLife_Balance"
      ],
      "execution_count": 36,
      "outputs": [
        {
          "output_type": "execute_result",
          "data": {
            "text/html": [
              "<div>\n",
              "<style scoped>\n",
              "    .dataframe tbody tr th:only-of-type {\n",
              "        vertical-align: middle;\n",
              "    }\n",
              "\n",
              "    .dataframe tbody tr th {\n",
              "        vertical-align: top;\n",
              "    }\n",
              "\n",
              "    .dataframe thead th {\n",
              "        text-align: right;\n",
              "    }\n",
              "</style>\n",
              "<table border=\"1\" class=\"dataframe\">\n",
              "  <thead>\n",
              "    <tr style=\"text-align: right;\">\n",
              "      <th>PerformanceRating</th>\n",
              "      <th>2</th>\n",
              "      <th>3</th>\n",
              "      <th>4</th>\n",
              "    </tr>\n",
              "    <tr>\n",
              "      <th>EmpWorkLifeBalance</th>\n",
              "      <th></th>\n",
              "      <th></th>\n",
              "      <th></th>\n",
              "    </tr>\n",
              "  </thead>\n",
              "  <tbody>\n",
              "    <tr>\n",
              "      <th>1</th>\n",
              "      <td>16</td>\n",
              "      <td>48</td>\n",
              "      <td>0</td>\n",
              "    </tr>\n",
              "    <tr>\n",
              "      <th>2</th>\n",
              "      <td>51</td>\n",
              "      <td>216</td>\n",
              "      <td>27</td>\n",
              "    </tr>\n",
              "    <tr>\n",
              "      <th>3</th>\n",
              "      <td>115</td>\n",
              "      <td>533</td>\n",
              "      <td>79</td>\n",
              "    </tr>\n",
              "    <tr>\n",
              "      <th>4</th>\n",
              "      <td>12</td>\n",
              "      <td>77</td>\n",
              "      <td>26</td>\n",
              "    </tr>\n",
              "  </tbody>\n",
              "</table>\n",
              "</div>"
            ],
            "text/plain": [
              "PerformanceRating     2    3   4\n",
              "EmpWorkLifeBalance              \n",
              "1                    16   48   0\n",
              "2                    51  216  27\n",
              "3                   115  533  79\n",
              "4                    12   77  26"
            ]
          },
          "metadata": {
            "tags": []
          },
          "execution_count": 36
        }
      ]
    },
    {
      "cell_type": "code",
      "metadata": {
        "id": "cWxIdMFpmkIu",
        "colab_type": "code",
        "colab": {
          "base_uri": "https://localhost:8080/",
          "height": 173
        },
        "outputId": "b3b13080-8440-47e1-ab4e-d63b044b04cb"
      },
      "source": [
        "EmpWorkLife_Balance.reset_index(inplace=True)\n",
        "EmpWorkLife_Balance"
      ],
      "execution_count": 37,
      "outputs": [
        {
          "output_type": "execute_result",
          "data": {
            "text/html": [
              "<div>\n",
              "<style scoped>\n",
              "    .dataframe tbody tr th:only-of-type {\n",
              "        vertical-align: middle;\n",
              "    }\n",
              "\n",
              "    .dataframe tbody tr th {\n",
              "        vertical-align: top;\n",
              "    }\n",
              "\n",
              "    .dataframe thead th {\n",
              "        text-align: right;\n",
              "    }\n",
              "</style>\n",
              "<table border=\"1\" class=\"dataframe\">\n",
              "  <thead>\n",
              "    <tr style=\"text-align: right;\">\n",
              "      <th>PerformanceRating</th>\n",
              "      <th>EmpWorkLifeBalance</th>\n",
              "      <th>2</th>\n",
              "      <th>3</th>\n",
              "      <th>4</th>\n",
              "    </tr>\n",
              "  </thead>\n",
              "  <tbody>\n",
              "    <tr>\n",
              "      <th>0</th>\n",
              "      <td>1</td>\n",
              "      <td>16</td>\n",
              "      <td>48</td>\n",
              "      <td>0</td>\n",
              "    </tr>\n",
              "    <tr>\n",
              "      <th>1</th>\n",
              "      <td>2</td>\n",
              "      <td>51</td>\n",
              "      <td>216</td>\n",
              "      <td>27</td>\n",
              "    </tr>\n",
              "    <tr>\n",
              "      <th>2</th>\n",
              "      <td>3</td>\n",
              "      <td>115</td>\n",
              "      <td>533</td>\n",
              "      <td>79</td>\n",
              "    </tr>\n",
              "    <tr>\n",
              "      <th>3</th>\n",
              "      <td>4</td>\n",
              "      <td>12</td>\n",
              "      <td>77</td>\n",
              "      <td>26</td>\n",
              "    </tr>\n",
              "  </tbody>\n",
              "</table>\n",
              "</div>"
            ],
            "text/plain": [
              "PerformanceRating  EmpWorkLifeBalance    2    3   4\n",
              "0                                   1   16   48   0\n",
              "1                                   2   51  216  27\n",
              "2                                   3  115  533  79\n",
              "3                                   4   12   77  26"
            ]
          },
          "metadata": {
            "tags": []
          },
          "execution_count": 37
        }
      ]
    },
    {
      "cell_type": "code",
      "metadata": {
        "id": "nhc71dAemwPy",
        "colab_type": "code",
        "colab": {
          "base_uri": "https://localhost:8080/",
          "height": 34
        },
        "outputId": "332c6501-38a2-4705-fe42-28461f94966e"
      },
      "source": [
        "x = np.arange(len(EmpWorkLife_Balance['EmpWorkLifeBalance']))\n",
        "x"
      ],
      "execution_count": 39,
      "outputs": [
        {
          "output_type": "execute_result",
          "data": {
            "text/plain": [
              "array([0, 1, 2, 3])"
            ]
          },
          "metadata": {
            "tags": []
          },
          "execution_count": 39
        }
      ]
    },
    {
      "cell_type": "code",
      "metadata": {
        "id": "5-wXkHsOm8kk",
        "colab_type": "code",
        "colab": {
          "base_uri": "https://localhost:8080/",
          "height": 312
        },
        "outputId": "b6d185d3-7b5a-4515-8dff-251ba2b0b86e"
      },
      "source": [
        "plt.xticks(x,['Bad','Good','Better','Best'])\n",
        "plt.bar(x+0.00, EmpWorkLife_Balance[2],width=0.25,label='Good')\n",
        "plt.bar(x+0.25, EmpWorkLife_Balance[3],width=0.25,label='Medium')\n",
        "plt.bar(x+0.50, EmpWorkLife_Balance[4],width=0.25,label='Outstanding')\n",
        "plt.legend(loc='best',shadow=True)\n",
        "plt.xlabel('EmpWork Life Balance Percentage')\n",
        "plt.ylabel('Number of people')\n",
        "plt.title('EmpWork Life Balance Percentage Wise Performance')"
      ],
      "execution_count": 40,
      "outputs": [
        {
          "output_type": "execute_result",
          "data": {
            "text/plain": [
              "Text(0.5, 1.0, 'EmpWork Life Balance Percentage Wise Performance')"
            ]
          },
          "metadata": {
            "tags": []
          },
          "execution_count": 40
        },
        {
          "output_type": "display_data",
          "data": {
            "image/png": "[encoded data removed]",
            "text/plain": [
              "<Figure size 432x288 with 1 Axes>"
            ]
          },
          "metadata": {
            "tags": []
          }
        }
      ]
    },
    {
      "cell_type": "code",
      "metadata": {
        "id": "ynBicXDOqE38",
        "colab_type": "code",
        "colab": {}
      },
      "source": [
        "X = data_dummy.drop(['PerformanceRating'],axis=1)\n",
        "Y = data_dummy['PerformanceRating']"
      ],
      "execution_count": 0,
      "outputs": []
    },
    {
      "cell_type": "code",
      "metadata": {
        "id": "DDoMkNBarUJ8",
        "colab_type": "code",
        "colab": {}
      },
      "source": [
        "from sklearn.ensemble import RandomForestClassifier\n",
        "from sklearn.model_selection import train_test_split\n",
        "from sklearn.metrics import accuracy_score, confusion_matrix, classification_report\n",
        "\n",
        "X_train,X_test,Y_train,Y_test = train_test_split(X,Y,test_size=0.24,random_state=0)"
      ],
      "execution_count": 0,
      "outputs": []
    },
    {
      "cell_type": "code",
      "metadata": {
        "id": "oDP6ONSUr_fK",
        "colab_type": "code",
        "colab": {}
      },
      "source": [
        "classifier = RandomForestClassifier(n_estimators=104, random_state=40)\n",
        "classifier.fit(X_train,Y_train)\n",
        "y_pred = classifier.predict(X_test)"
      ],
      "execution_count": 0,
      "outputs": []
    },
    {
      "cell_type": "code",
      "metadata": {
        "id": "MHrmQqVEsmS8",
        "colab_type": "code",
        "colab": {
          "base_uri": "https://localhost:8080/",
          "height": 34
        },
        "outputId": "b19e09df-8f95-4d6d-a597-4f04060962ec"
      },
      "source": [
        "accuracy_score(Y_test,y_pred)"
      ],
      "execution_count": 44,
      "outputs": [
        {
          "output_type": "execute_result",
          "data": {
            "text/plain": [
              "0.9583333333333334"
            ]
          },
          "metadata": {
            "tags": []
          },
          "execution_count": 44
        }
      ]
    },
    {
      "cell_type": "code",
      "metadata": {
        "id": "_-0W35Kzs4C5",
        "colab_type": "code",
        "colab": {
          "base_uri": "https://localhost:8080/",
          "height": 68
        },
        "outputId": "565f082b-0bc6-454a-ebd6-98b790d382b7"
      },
      "source": [
        "confusion_matrix(Y_test,y_pred)\n"
      ],
      "execution_count": 45,
      "outputs": [
        {
          "output_type": "execute_result",
          "data": {
            "text/plain": [
              "array([[ 37,   3,   0],\n",
              "       [  2, 213,   2],\n",
              "       [  0,   5,  26]])"
            ]
          },
          "metadata": {
            "tags": []
          },
          "execution_count": 45
        }
      ]
    },
    {
      "cell_type": "markdown",
      "metadata": {
        "id": "IcSZ6XS9_LAE",
        "colab_type": "text"
      },
      "source": [
        "For confusion matrix Reference\n",
        "\n",
        "https://towardsdatascience.com/understanding-confusion-matrix-a9ad42dcfd62\n",
        "\n",
        "https://www.dataschool.io/simple-guide-to-confusion-matrix-terminology/"
      ]
    },
    {
      "cell_type": "code",
      "metadata": {
        "id": "6basNj12thLV",
        "colab_type": "code",
        "colab": {
          "base_uri": "https://localhost:8080/",
          "height": 187
        },
        "outputId": "c74a3771-69c2-4a5f-e476-69fd9db5207c"
      },
      "source": [
        "print(classification_report(Y_test,y_pred))"
      ],
      "execution_count": 46,
      "outputs": [
        {
          "output_type": "stream",
          "text": [
            "              precision    recall  f1-score   support\n",
            "\n",
            "           2       0.95      0.93      0.94        40\n",
            "           3       0.96      0.98      0.97       217\n",
            "           4       0.93      0.84      0.88        31\n",
            "\n",
            "    accuracy                           0.96       288\n",
            "   macro avg       0.95      0.92      0.93       288\n",
            "weighted avg       0.96      0.96      0.96       288\n",
            "\n"
          ],
          "name": "stdout"
        }
      ]
    },
    {
      "cell_type": "code",
      "metadata": {
        "id": "yeb6oX6-CUVU",
        "colab_type": "code",
        "colab": {
          "base_uri": "https://localhost:8080/",
          "height": 71
        },
        "outputId": "6d8edc37-c5ec-495b-a5c1-3eac7ee8802a"
      },
      "source": [
        "# Training the model\n",
        "from sklearn.svm import SVC\n",
        "rbf_svc = SVC(kernel='rbf', C=100, random_state=10).fit(X_train,Y_train)"
      ],
      "execution_count": 47,
      "outputs": [
        {
          "output_type": "stream",
          "text": [
            "/usr/local/lib/python3.6/dist-packages/sklearn/svm/base.py:193: FutureWarning: The default value of gamma will change from 'auto' to 'scale' in version 0.22 to account better for unscaled features. Set gamma explicitly to 'auto' or 'scale' to avoid this warning.\n",
            "  \"avoid this warning.\", FutureWarning)\n"
          ],
          "name": "stderr"
        }
      ]
    },
    {
      "cell_type": "code",
      "metadata": {
        "id": "PIWvdNtEChrT",
        "colab_type": "code",
        "colab": {}
      },
      "source": [
        "# Predicting the model\n",
        "y_predict_svm = rbf_svc.predict(X_test)"
      ],
      "execution_count": 0,
      "outputs": []
    },
    {
      "cell_type": "code",
      "metadata": {
        "id": "jPOibz0HCm7l",
        "colab_type": "code",
        "colab": {
          "base_uri": "https://localhost:8080/",
          "height": 204
        },
        "outputId": "bb30b208-7009-4105-e656-1c1e3d61fad4"
      },
      "source": [
        "# Finding accuracy, precision, recall and confusion matrix\n",
        "print(accuracy_score(Y_test,y_predict_svm))\n",
        "print(classification_report(Y_test,y_predict_svm))"
      ],
      "execution_count": 49,
      "outputs": [
        {
          "output_type": "stream",
          "text": [
            "0.7465277777777778\n",
            "              precision    recall  f1-score   support\n",
            "\n",
            "           2       0.00      0.00      0.00        40\n",
            "           3       0.76      0.98      0.85       217\n",
            "           4       0.60      0.10      0.17        31\n",
            "\n",
            "    accuracy                           0.75       288\n",
            "   macro avg       0.45      0.36      0.34       288\n",
            "weighted avg       0.64      0.75      0.66       288\n",
            "\n"
          ],
          "name": "stdout"
        }
      ]
    }
  ]
}